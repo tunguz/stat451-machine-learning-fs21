{
 "cells": [
  {
   "cell_type": "code",
   "execution_count": 8,
   "id": "69c4a99a-4de9-44bf-94dc-7c29343f53d9",
   "metadata": {},
   "outputs": [
    {
     "data": {
      "text/plain": [
       "'1.5.0'"
      ]
     },
     "execution_count": 8,
     "metadata": {},
     "output_type": "execute_result"
    }
   ],
   "source": [
    "import numpy as np\n",
    "import pandas as pd\n",
    "import xgboost as xgb\n",
    "from sklearn.model_selection import KFold, train_test_split\n",
    "from sklearn.metrics import roc_auc_score, accuracy_score\n",
    "from sklearn.preprocessing import StandardScaler\n",
    "from sklearn.preprocessing import LabelEncoder\n",
    "import optuna\n",
    "import gc\n",
    "xgb.__version__"
   ]
  },
  {
   "cell_type": "code",
   "execution_count": 2,
   "id": "67ac5d8b-52b9-4f98-8227-d5a0433a21e5",
   "metadata": {},
   "outputs": [
    {
     "name": "stdout",
     "output_type": "stream",
     "text": [
      "X_train.shape: (9119, 16)\n",
      "y_train.shape: (9119,)\n",
      "X_test.shape: (4492, 16)\n",
      "y_test.shape: (4492,)\n"
     ]
    }
   ],
   "source": [
    "import pandas as pd\n",
    "\n",
    "\n",
    "X_train = pd.read_csv('https://raw.githubusercontent.com/rasbt/stat451-machine-learning-fs21/main/hw02-starter/dataset/X_train.csv', header=None).values\n",
    "y_train = pd.read_csv('https://raw.githubusercontent.com/rasbt/stat451-machine-learning-fs21/main/hw02-starter/dataset/y_train.csv', header=None).values.ravel().astype(int)\n",
    "\n",
    "X_test = pd.read_csv('https://raw.githubusercontent.com/rasbt/stat451-machine-learning-fs21/main/hw02-starter/dataset/X_test.csv', header=None).values\n",
    "y_test = pd.read_csv('https://raw.githubusercontent.com/rasbt/stat451-machine-learning-fs21/main/hw02-starter/dataset/y_test.csv', header=None).values.ravel().astype(int)\n",
    "\n",
    "print('X_train.shape:', X_train.shape)\n",
    "print('y_train.shape:', y_train.shape)\n",
    "print('X_test.shape:', X_test.shape)\n",
    "print('y_test.shape:', y_test.shape)"
   ]
  },
  {
   "cell_type": "code",
   "execution_count": 3,
   "id": "f1711fc7-26d5-48ee-8792-b78db2510e2b",
   "metadata": {},
   "outputs": [
    {
     "name": "stdout",
     "output_type": "stream",
     "text": [
      "Train/Valid/Test sizes: 7295 1824 4492\n"
     ]
    }
   ],
   "source": [
    "X_train_sub, X_valid, y_train_sub, y_valid = \\\n",
    "    train_test_split(X_train, y_train, test_size=0.2, random_state=1, stratify=y_train)\n",
    "\n",
    "print('Train/Valid/Test sizes:', y_train_sub.shape[0], y_valid.shape[0], y_test.shape[0])"
   ]
  },
  {
   "cell_type": "code",
   "execution_count": 4,
   "id": "09213c3b-4f84-46a4-8838-566fdc144b84",
   "metadata": {},
   "outputs": [
    {
     "data": {
      "text/plain": [
       "array([3, 0, 3, ..., 3, 4, 2])"
      ]
     },
     "execution_count": 4,
     "metadata": {},
     "output_type": "execute_result"
    }
   ],
   "source": [
    "y_train_sub"
   ]
  },
  {
   "cell_type": "code",
   "execution_count": 12,
   "id": "6e44b44f-2483-4f1c-afa6-51debe656312",
   "metadata": {},
   "outputs": [
    {
     "data": {
      "text/plain": [
       "array([2, 0, 5, ..., 4, 6, 3])"
      ]
     },
     "execution_count": 12,
     "metadata": {},
     "output_type": "execute_result"
    }
   ],
   "source": [
    "y_test"
   ]
  },
  {
   "cell_type": "code",
   "execution_count": 5,
   "id": "b633e349-41e3-4674-a717-ff281a8beb7a",
   "metadata": {},
   "outputs": [
    {
     "data": {
      "text/plain": [
       "array([0, 1, 2, 3, 4, 5, 6])"
      ]
     },
     "execution_count": 5,
     "metadata": {},
     "output_type": "execute_result"
    }
   ],
   "source": [
    "np.unique(y_train_sub)"
   ]
  },
  {
   "cell_type": "code",
   "execution_count": 6,
   "id": "3e7aaaac-7418-4c36-aac4-e5bbe62fc248",
   "metadata": {},
   "outputs": [],
   "source": [
    "dtrain = xgb.DMatrix(X_train_sub, label=y_train_sub)\n",
    "dvalid = xgb.DMatrix(X_valid, label=y_valid)"
   ]
  },
  {
   "cell_type": "code",
   "execution_count": 7,
   "id": "0dd0ccd0-bbf4-45d3-b8b1-1591f94f9cfc",
   "metadata": {},
   "outputs": [],
   "source": [
    "num_round = 1000"
   ]
  },
  {
   "cell_type": "code",
   "execution_count": 16,
   "id": "c7a21b5a-a22e-4337-99b4-5f6f4282e3d3",
   "metadata": {},
   "outputs": [],
   "source": [
    "def objective(trial):\n",
    "        \n",
    "    params = {\n",
    "        'objective': trial.suggest_categorical('objective',['multi:softmax']), \n",
    "        'tree_method': trial.suggest_categorical('tree_method',['gpu_hist']),  # 'gpu_hist','hist'\n",
    "        'lambda': trial.suggest_loguniform('lambda',1e-3,10.0),\n",
    "        'alpha': trial.suggest_loguniform('alpha',1e-3,10.0),\n",
    "        'colsample_bytree': trial.suggest_uniform('colsample_bytree', 0.3,1.0),\n",
    "        'subsample': trial.suggest_uniform('subsample', 0.4, 1.0),\n",
    "        'learning_rate': trial.suggest_loguniform('learning_rate', 0.001,0.1),\n",
    "        #'n_estimators': trial.suggest_categorical('n_estimators', [1000]),\n",
    "        'max_depth': trial.suggest_categorical('max_depth', [3,5,7,9,11,13,15,17,20]),\n",
    "        #'random_state': trial.suggest_categorical('random_state', [24,48,2020]),\n",
    "        'min_child_weight': trial.suggest_int('min_child_weight', 1,300),\n",
    "        'eval_metric': trial.suggest_categorical('eval_metric',['mlogloss']),\n",
    "        'num_class': trial.suggest_categorical('num_class', [7])\n",
    "\n",
    "    }\n",
    "\n",
    "    model = xgb.train(params, dtrain, num_round)\n",
    "    predictions = model.predict(dvalid)\n",
    "\n",
    "    acc = accuracy_score(y_valid, predictions)\n",
    "    \n",
    "    return acc"
   ]
  },
  {
   "cell_type": "code",
   "execution_count": 17,
   "id": "cd1a25b1-4f23-4cd0-8167-e475deaa35d5",
   "metadata": {},
   "outputs": [
    {
     "name": "stderr",
     "output_type": "stream",
     "text": [
      "\u001b[32m[I 2021-11-16 15:17:57,865]\u001b[0m A new study created in memory with name: no-name-863f7508-4374-469d-9b93-9adec112af9d\u001b[0m\n"
     ]
    }
   ],
   "source": [
    "study = optuna.create_study(direction='maximize')"
   ]
  },
  {
   "cell_type": "code",
   "execution_count": 18,
   "id": "aef8030c-1d02-43df-92dd-87e5b18db856",
   "metadata": {},
   "outputs": [
    {
     "name": "stderr",
     "output_type": "stream",
     "text": [
      "\u001b[32m[I 2021-11-16 15:18:02,245]\u001b[0m Trial 0 finished with value: 0.9139254385964912 and parameters: {'objective': 'multi:softmax', 'tree_method': 'gpu_hist', 'lambda': 0.08959278301488241, 'alpha': 0.034589419521844654, 'colsample_bytree': 0.9658241624365731, 'subsample': 0.5808919143361457, 'learning_rate': 0.009581421719647683, 'max_depth': 9, 'min_child_weight': 67, 'eval_metric': 'mlogloss', 'num_class': 7}. Best is trial 0 with value: 0.9139254385964912.\u001b[0m\n",
      "\u001b[32m[I 2021-11-16 15:18:09,675]\u001b[0m Trial 1 finished with value: 0.8338815789473685 and parameters: {'objective': 'multi:softmax', 'tree_method': 'gpu_hist', 'lambda': 0.0261098832308896, 'alpha': 0.15112562041527816, 'colsample_bytree': 0.7836143885528984, 'subsample': 0.5217363054336831, 'learning_rate': 0.008015129316045467, 'max_depth': 17, 'min_child_weight': 259, 'eval_metric': 'mlogloss', 'num_class': 7}. Best is trial 0 with value: 0.9139254385964912.\u001b[0m\n"
     ]
    },
    {
     "name": "stdout",
     "output_type": "stream",
     "text": [
      "CPU times: user 11.4 s, sys: 80.6 ms, total: 11.4 s\n",
      "Wall time: 11 s\n"
     ]
    }
   ],
   "source": [
    "%%time\n",
    "study.optimize(objective, n_trials=2)"
   ]
  },
  {
   "cell_type": "code",
   "execution_count": 19,
   "id": "69f6c60e-08fb-4c56-9188-ffb184e2b4a1",
   "metadata": {},
   "outputs": [
    {
     "name": "stderr",
     "output_type": "stream",
     "text": [
      "\u001b[32m[I 2021-11-16 15:18:32,184]\u001b[0m Trial 2 finished with value: 0.8766447368421053 and parameters: {'objective': 'multi:softmax', 'tree_method': 'gpu_hist', 'lambda': 2.1040184452366053, 'alpha': 0.005116629399450099, 'colsample_bytree': 0.7660548418045704, 'subsample': 0.9654036457617079, 'learning_rate': 0.04924854372979283, 'max_depth': 3, 'min_child_weight': 172, 'eval_metric': 'mlogloss', 'num_class': 7}. Best is trial 0 with value: 0.9139254385964912.\u001b[0m\n",
      "\u001b[32m[I 2021-11-16 15:19:22,122]\u001b[0m Trial 3 finished with value: 0.9237938596491229 and parameters: {'objective': 'multi:softmax', 'tree_method': 'gpu_hist', 'lambda': 0.02159971932830458, 'alpha': 0.3819006809371373, 'colsample_bytree': 0.6552831234656763, 'subsample': 0.9056665331256465, 'learning_rate': 0.09984134446658842, 'max_depth': 20, 'min_child_weight': 43, 'eval_metric': 'mlogloss', 'num_class': 7}. Best is trial 3 with value: 0.9237938596491229.\u001b[0m\n",
      "\u001b[32m[I 2021-11-16 15:19:24,793]\u001b[0m Trial 4 finished with value: 0.8640350877192983 and parameters: {'objective': 'multi:softmax', 'tree_method': 'gpu_hist', 'lambda': 0.05790359536738421, 'alpha': 0.058656707005337726, 'colsample_bytree': 0.46580180261867854, 'subsample': 0.9459589930947176, 'learning_rate': 0.013344513924245934, 'max_depth': 7, 'min_child_weight': 183, 'eval_metric': 'mlogloss', 'num_class': 7}. Best is trial 3 with value: 0.9237938596491229.\u001b[0m\n",
      "\u001b[32m[I 2021-11-16 15:19:27,632]\u001b[0m Trial 5 finished with value: 0.8596491228070176 and parameters: {'objective': 'multi:softmax', 'tree_method': 'gpu_hist', 'lambda': 6.300427738273136, 'alpha': 0.0709607935701154, 'colsample_bytree': 0.7519492324826184, 'subsample': 0.6347717178620624, 'learning_rate': 0.006400840955579801, 'max_depth': 11, 'min_child_weight': 204, 'eval_metric': 'mlogloss', 'num_class': 7}. Best is trial 3 with value: 0.9237938596491229.\u001b[0m\n",
      "\u001b[32m[I 2021-11-16 15:19:35,014]\u001b[0m Trial 6 finished with value: 0.8618421052631579 and parameters: {'objective': 'multi:softmax', 'tree_method': 'gpu_hist', 'lambda': 0.011042914972758147, 'alpha': 1.0706244073086904, 'colsample_bytree': 0.6652936529721465, 'subsample': 0.6822510867536115, 'learning_rate': 0.015181238370660717, 'max_depth': 17, 'min_child_weight': 250, 'eval_metric': 'mlogloss', 'num_class': 7}. Best is trial 3 with value: 0.9237938596491229.\u001b[0m\n",
      "\u001b[32m[I 2021-11-16 15:19:38,534]\u001b[0m Trial 7 finished with value: 0.8541666666666666 and parameters: {'objective': 'multi:softmax', 'tree_method': 'gpu_hist', 'lambda': 0.004912797941264776, 'alpha': 1.5528377839098475, 'colsample_bytree': 0.3183589412525703, 'subsample': 0.4872568463665738, 'learning_rate': 0.04082894620085309, 'max_depth': 15, 'min_child_weight': 211, 'eval_metric': 'mlogloss', 'num_class': 7}. Best is trial 3 with value: 0.9237938596491229.\u001b[0m\n",
      "\u001b[32m[I 2021-11-16 15:19:40,735]\u001b[0m Trial 8 finished with value: 0.8552631578947368 and parameters: {'objective': 'multi:softmax', 'tree_method': 'gpu_hist', 'lambda': 0.9196951181269599, 'alpha': 0.0012430273257358884, 'colsample_bytree': 0.666483561310486, 'subsample': 0.5967521353720444, 'learning_rate': 0.043142293790674455, 'max_depth': 5, 'min_child_weight': 237, 'eval_metric': 'mlogloss', 'num_class': 7}. Best is trial 3 with value: 0.9237938596491229.\u001b[0m\n",
      "\u001b[32m[I 2021-11-16 15:19:51,978]\u001b[0m Trial 9 finished with value: 0.9237938596491229 and parameters: {'objective': 'multi:softmax', 'tree_method': 'gpu_hist', 'lambda': 3.1153838367702926, 'alpha': 0.007077158598198973, 'colsample_bytree': 0.471363095353761, 'subsample': 0.7463783330126813, 'learning_rate': 0.005717435246817182, 'max_depth': 15, 'min_child_weight': 9, 'eval_metric': 'mlogloss', 'num_class': 7}. Best is trial 3 with value: 0.9237938596491229.\u001b[0m\n",
      "\u001b[32m[I 2021-11-16 15:20:44,489]\u001b[0m Trial 10 finished with value: 0.850328947368421 and parameters: {'objective': 'multi:softmax', 'tree_method': 'gpu_hist', 'lambda': 0.0014652310242815635, 'alpha': 9.12777379637485, 'colsample_bytree': 0.99837709288862, 'subsample': 0.81701622598268, 'learning_rate': 0.0011818970076767049, 'max_depth': 20, 'min_child_weight': 98, 'eval_metric': 'mlogloss', 'num_class': 7}. Best is trial 3 with value: 0.9237938596491229.\u001b[0m\n",
      "\u001b[32m[I 2021-11-16 15:21:11,181]\u001b[0m Trial 11 finished with value: 0.9243421052631579 and parameters: {'objective': 'multi:softmax', 'tree_method': 'gpu_hist', 'lambda': 0.5176623801138478, 'alpha': 0.010774067872700022, 'colsample_bytree': 0.5036671582881095, 'subsample': 0.8128800771213133, 'learning_rate': 0.002646984226138978, 'max_depth': 15, 'min_child_weight': 3, 'eval_metric': 'mlogloss', 'num_class': 7}. Best is trial 11 with value: 0.9243421052631579.\u001b[0m\n",
      "\u001b[32m[I 2021-11-16 15:21:20,016]\u001b[0m Trial 12 finished with value: 0.918859649122807 and parameters: {'objective': 'multi:softmax', 'tree_method': 'gpu_hist', 'lambda': 0.40808111997550195, 'alpha': 0.4498518332269122, 'colsample_bytree': 0.5002399942367737, 'subsample': 0.8439805434932514, 'learning_rate': 0.0020570492211373285, 'max_depth': 13, 'min_child_weight': 18, 'eval_metric': 'mlogloss', 'num_class': 7}. Best is trial 11 with value: 0.9243421052631579.\u001b[0m\n",
      "\u001b[32m[I 2021-11-16 15:22:13,872]\u001b[0m Trial 13 finished with value: 0.8925438596491229 and parameters: {'objective': 'multi:softmax', 'tree_method': 'gpu_hist', 'lambda': 0.2997369351685874, 'alpha': 0.013793468936558667, 'colsample_bytree': 0.5856664862151916, 'subsample': 0.8473294925857675, 'learning_rate': 0.0029045993782798856, 'max_depth': 20, 'min_child_weight': 84, 'eval_metric': 'mlogloss', 'num_class': 7}. Best is trial 11 with value: 0.9243421052631579.\u001b[0m\n",
      "\u001b[32m[I 2021-11-16 15:23:04,182]\u001b[0m Trial 14 finished with value: 0.8887061403508771 and parameters: {'objective': 'multi:softmax', 'tree_method': 'gpu_hist', 'lambda': 0.22007047158230456, 'alpha': 0.280596857561561, 'colsample_bytree': 0.3913607714230844, 'subsample': 0.9102369858380632, 'learning_rate': 0.09796862294681552, 'max_depth': 20, 'min_child_weight': 123, 'eval_metric': 'mlogloss', 'num_class': 7}. Best is trial 11 with value: 0.9243421052631579.\u001b[0m\n",
      "\u001b[32m[I 2021-11-16 15:23:11,599]\u001b[0m Trial 15 finished with value: 0.9111842105263158 and parameters: {'objective': 'multi:softmax', 'tree_method': 'gpu_hist', 'lambda': 0.01533778905004858, 'alpha': 0.0019352372367083127, 'colsample_bytree': 0.5891935221459983, 'subsample': 0.7491088651126379, 'learning_rate': 0.0034871473652923054, 'max_depth': 15, 'min_child_weight': 48, 'eval_metric': 'mlogloss', 'num_class': 7}. Best is trial 11 with value: 0.9243421052631579.\u001b[0m\n",
      "\u001b[32m[I 2021-11-16 15:23:14,553]\u001b[0m Trial 16 finished with value: 0.9226973684210527 and parameters: {'objective': 'multi:softmax', 'tree_method': 'gpu_hist', 'lambda': 0.0010133475248382106, 'alpha': 0.020767644678029513, 'colsample_bytree': 0.8446728512076036, 'subsample': 0.8722415909809595, 'learning_rate': 0.019902026201715887, 'max_depth': 3, 'min_child_weight': 35, 'eval_metric': 'mlogloss', 'num_class': 7}. Best is trial 11 with value: 0.9243421052631579.\u001b[0m\n",
      "\u001b[32m[I 2021-11-16 15:23:18,759]\u001b[0m Trial 17 finished with value: 0.8475877192982456 and parameters: {'objective': 'multi:softmax', 'tree_method': 'gpu_hist', 'lambda': 0.06374039732168685, 'alpha': 3.8946758625368973, 'colsample_bytree': 0.5515777962804401, 'subsample': 0.9960759239744005, 'learning_rate': 0.0014563739967817227, 'max_depth': 11, 'min_child_weight': 128, 'eval_metric': 'mlogloss', 'num_class': 7}. Best is trial 11 with value: 0.9243421052631579.\u001b[0m\n",
      "\u001b[32m[I 2021-11-16 15:23:21,347]\u001b[0m Trial 18 finished with value: 0.8530701754385965 and parameters: {'objective': 'multi:softmax', 'tree_method': 'gpu_hist', 'lambda': 0.004837438776345917, 'alpha': 0.1519678394976256, 'colsample_bytree': 0.3805898554583779, 'subsample': 0.7691561599960574, 'learning_rate': 0.02738877036111489, 'max_depth': 13, 'min_child_weight': 298, 'eval_metric': 'mlogloss', 'num_class': 7}. Best is trial 11 with value: 0.9243421052631579.\u001b[0m\n",
      "\u001b[32m[I 2021-11-16 15:23:29,743]\u001b[0m Trial 19 finished with value: 0.9237938596491229 and parameters: {'objective': 'multi:softmax', 'tree_method': 'gpu_hist', 'lambda': 7.578572250383088, 'alpha': 0.005758514421314009, 'colsample_bytree': 0.447681792710828, 'subsample': 0.7193650702097363, 'learning_rate': 0.005317850800228703, 'max_depth': 15, 'min_child_weight': 15, 'eval_metric': 'mlogloss', 'num_class': 7}. Best is trial 11 with value: 0.9243421052631579.\u001b[0m\n",
      "\u001b[32m[I 2021-11-16 15:23:41,226]\u001b[0m Trial 20 finished with value: 0.9216008771929824 and parameters: {'objective': 'multi:softmax', 'tree_method': 'gpu_hist', 'lambda': 2.3050025951922533, 'alpha': 0.008268414989717832, 'colsample_bytree': 0.30645638018415844, 'subsample': 0.7926401265887418, 'learning_rate': 0.004707307007017426, 'max_depth': 15, 'min_child_weight': 10, 'eval_metric': 'mlogloss', 'num_class': 7}. Best is trial 11 with value: 0.9243421052631579.\u001b[0m\n",
      "\u001b[32m[I 2021-11-16 15:23:46,636]\u001b[0m Trial 21 finished with value: 0.8607456140350878 and parameters: {'objective': 'multi:softmax', 'tree_method': 'gpu_hist', 'lambda': 9.569232437512635, 'alpha': 0.002397767492141909, 'colsample_bytree': 0.5256025026861572, 'subsample': 0.40180800802202266, 'learning_rate': 0.0021848848127226537, 'max_depth': 15, 'min_child_weight': 48, 'eval_metric': 'mlogloss', 'num_class': 7}. Best is trial 11 with value: 0.9243421052631579.\u001b[0m\n",
      "\u001b[32m[I 2021-11-16 15:24:09,056]\u001b[0m Trial 22 finished with value: 0.9237938596491229 and parameters: {'objective': 'multi:softmax', 'tree_method': 'gpu_hist', 'lambda': 0.7212572748382413, 'alpha': 0.0036937714456515133, 'colsample_bytree': 0.4150699851595109, 'subsample': 0.6951592712948661, 'learning_rate': 0.00378777909950973, 'max_depth': 9, 'min_child_weight': 1, 'eval_metric': 'mlogloss', 'num_class': 7}. Best is trial 11 with value: 0.9243421052631579.\u001b[0m\n",
      "\u001b[32m[I 2021-11-16 15:24:14,450]\u001b[0m Trial 23 finished with value: 0.9144736842105263 and parameters: {'objective': 'multi:softmax', 'tree_method': 'gpu_hist', 'lambda': 4.054708649724392, 'alpha': 0.007525670038497994, 'colsample_bytree': 0.4541665232686712, 'subsample': 0.7434234316643233, 'learning_rate': 0.006039173413370705, 'max_depth': 15, 'min_child_weight': 72, 'eval_metric': 'mlogloss', 'num_class': 7}. Best is trial 11 with value: 0.9243421052631579.\u001b[0m\n",
      "\u001b[32m[I 2021-11-16 15:24:20,624]\u001b[0m Trial 24 finished with value: 0.912828947368421 and parameters: {'objective': 'multi:softmax', 'tree_method': 'gpu_hist', 'lambda': 1.1723187156297747, 'alpha': 0.031546442076365706, 'colsample_bytree': 0.6200333264285237, 'subsample': 0.8634437350178831, 'learning_rate': 0.0018841587404564786, 'max_depth': 5, 'min_child_weight': 30, 'eval_metric': 'mlogloss', 'num_class': 7}. Best is trial 11 with value: 0.9243421052631579.\u001b[0m\n",
      "\u001b[32m[I 2021-11-16 15:24:23,041]\u001b[0m Trial 25 finished with value: 0.9194078947368421 and parameters: {'objective': 'multi:softmax', 'tree_method': 'gpu_hist', 'lambda': 0.1871964477345156, 'alpha': 0.0032046016357592487, 'colsample_bytree': 0.3861440081818769, 'subsample': 0.6729250419568401, 'learning_rate': 0.09125019241624008, 'max_depth': 9, 'min_child_weight': 51, 'eval_metric': 'mlogloss', 'num_class': 7}. Best is trial 11 with value: 0.9243421052631579.\u001b[0m\n",
      "\u001b[32m[I 2021-11-16 15:24:44,661]\u001b[0m Trial 26 finished with value: 0.9287280701754386 and parameters: {'objective': 'multi:softmax', 'tree_method': 'gpu_hist', 'lambda': 0.7509288481232108, 'alpha': 0.0011875022543285506, 'colsample_bytree': 0.6854021788766252, 'subsample': 0.905222312627183, 'learning_rate': 0.003508219917675821, 'max_depth': 9, 'min_child_weight': 2, 'eval_metric': 'mlogloss', 'num_class': 7}. Best is trial 26 with value: 0.9287280701754386.\u001b[0m\n",
      "\u001b[32m[I 2021-11-16 15:25:09,996]\u001b[0m Trial 27 finished with value: 0.9298245614035088 and parameters: {'objective': 'multi:softmax', 'tree_method': 'gpu_hist', 'lambda': 0.6815776030857581, 'alpha': 0.0013411775007383694, 'colsample_bytree': 0.7052915345282778, 'subsample': 0.9267356291635175, 'learning_rate': 0.0037486248573028774, 'max_depth': 9, 'min_child_weight': 1, 'eval_metric': 'mlogloss', 'num_class': 7}. Best is trial 27 with value: 0.9298245614035088.\u001b[0m\n",
      "\u001b[32m[I 2021-11-16 15:25:15,146]\u001b[0m Trial 28 finished with value: 0.8739035087719298 and parameters: {'objective': 'multi:softmax', 'tree_method': 'gpu_hist', 'lambda': 0.5118430351235762, 'alpha': 0.0010121366489384618, 'colsample_bytree': 0.6998791967828634, 'subsample': 0.9159871688870629, 'learning_rate': 0.0027535280871201864, 'max_depth': 9, 'min_child_weight': 102, 'eval_metric': 'mlogloss', 'num_class': 7}. Best is trial 27 with value: 0.9298245614035088.\u001b[0m\n",
      "\u001b[32m[I 2021-11-16 15:25:19,082]\u001b[0m Trial 29 finished with value: 0.9166666666666666 and parameters: {'objective': 'multi:softmax', 'tree_method': 'gpu_hist', 'lambda': 0.11993574397141117, 'alpha': 0.0018312274537693929, 'colsample_bytree': 0.8853828109585178, 'subsample': 0.9849506642068854, 'learning_rate': 0.009452108416583121, 'max_depth': 9, 'min_child_weight': 66, 'eval_metric': 'mlogloss', 'num_class': 7}. Best is trial 27 with value: 0.9298245614035088.\u001b[0m\n",
      "\u001b[32m[I 2021-11-16 15:25:23,634]\u001b[0m Trial 30 finished with value: 0.8442982456140351 and parameters: {'objective': 'multi:softmax', 'tree_method': 'gpu_hist', 'lambda': 1.4745682712206958, 'alpha': 0.01393380128975598, 'colsample_bytree': 0.8712876241319828, 'subsample': 0.9313073137503034, 'learning_rate': 0.0014065922973177862, 'max_depth': 9, 'min_child_weight': 141, 'eval_metric': 'mlogloss', 'num_class': 7}. Best is trial 27 with value: 0.9298245614035088.\u001b[0m\n",
      "\u001b[32m[I 2021-11-16 15:25:29,932]\u001b[0m Trial 31 finished with value: 0.9221491228070176 and parameters: {'objective': 'multi:softmax', 'tree_method': 'gpu_hist', 'lambda': 0.6149869450838384, 'alpha': 0.6805384078944802, 'colsample_bytree': 0.7065844009912363, 'subsample': 0.8902750250766759, 'learning_rate': 0.003731204613383826, 'max_depth': 7, 'min_child_weight': 31, 'eval_metric': 'mlogloss', 'num_class': 7}. Best is trial 27 with value: 0.9298245614035088.\u001b[0m\n",
      "\u001b[32m[I 2021-11-16 15:26:59,244]\u001b[0m Trial 32 finished with value: 0.9325657894736842 and parameters: {'objective': 'multi:softmax', 'tree_method': 'gpu_hist', 'lambda': 0.025526645835903024, 'alpha': 0.1639544240473984, 'colsample_bytree': 0.81794865145146, 'subsample': 0.8068512306030803, 'learning_rate': 0.002790585999561399, 'max_depth': 20, 'min_child_weight': 1, 'eval_metric': 'mlogloss', 'num_class': 7}. Best is trial 32 with value: 0.9325657894736842.\u001b[0m\n",
      "\u001b[32m[I 2021-11-16 15:27:26,954]\u001b[0m Trial 33 finished with value: 0.9320175438596491 and parameters: {'objective': 'multi:softmax', 'tree_method': 'gpu_hist', 'lambda': 0.038423226949115326, 'alpha': 0.13598877143006805, 'colsample_bytree': 0.8172657299482752, 'subsample': 0.8194458694183222, 'learning_rate': 0.0017254747715487774, 'max_depth': 9, 'min_child_weight': 1, 'eval_metric': 'mlogloss', 'num_class': 7}. Best is trial 32 with value: 0.9325657894736842.\u001b[0m\n",
      "\u001b[32m[I 2021-11-16 15:27:36,213]\u001b[0m Trial 34 finished with value: 0.9177631578947368 and parameters: {'objective': 'multi:softmax', 'tree_method': 'gpu_hist', 'lambda': 0.04141926286120255, 'alpha': 0.13752238525382793, 'colsample_bytree': 0.8142578467380839, 'subsample': 0.9487287317511675, 'learning_rate': 0.0016781663006982571, 'max_depth': 9, 'min_child_weight': 25, 'eval_metric': 'mlogloss', 'num_class': 7}. Best is trial 32 with value: 0.9325657894736842.\u001b[0m\n",
      "\u001b[32m[I 2021-11-16 15:27:40,574]\u001b[0m Trial 35 finished with value: 0.918859649122807 and parameters: {'objective': 'multi:softmax', 'tree_method': 'gpu_hist', 'lambda': 0.13377432631149208, 'alpha': 0.04801229140299032, 'colsample_bytree': 0.944602459839105, 'subsample': 0.8197342750832853, 'learning_rate': 0.007196536727606163, 'max_depth': 9, 'min_child_weight': 62, 'eval_metric': 'mlogloss', 'num_class': 7}. Best is trial 32 with value: 0.9325657894736842.\u001b[0m\n",
      "\u001b[32m[I 2021-11-16 15:28:07,098]\u001b[0m Trial 36 finished with value: 0.9303728070175439 and parameters: {'objective': 'multi:softmax', 'tree_method': 'gpu_hist', 'lambda': 0.028256767802781267, 'alpha': 0.22737781643696123, 'colsample_bytree': 0.7461723392985452, 'subsample': 0.786915761290251, 'learning_rate': 0.0012068295034376548, 'max_depth': 9, 'min_child_weight': 1, 'eval_metric': 'mlogloss', 'num_class': 7}. Best is trial 32 with value: 0.9325657894736842.\u001b[0m\n",
      "\u001b[32m[I 2021-11-16 15:28:16,274]\u001b[0m Trial 37 finished with value: 0.8278508771929824 and parameters: {'objective': 'multi:softmax', 'tree_method': 'gpu_hist', 'lambda': 0.03166383992524995, 'alpha': 0.218544599688148, 'colsample_bytree': 0.7611543983472469, 'subsample': 0.7851999881069738, 'learning_rate': 0.0010012840536559866, 'max_depth': 17, 'min_child_weight': 168, 'eval_metric': 'mlogloss', 'num_class': 7}. Best is trial 32 with value: 0.9325657894736842.\u001b[0m\n",
      "\u001b[32m[I 2021-11-16 15:28:20,358]\u001b[0m Trial 38 finished with value: 0.8459429824561403 and parameters: {'objective': 'multi:softmax', 'tree_method': 'gpu_hist', 'lambda': 0.007250828240271513, 'alpha': 0.10383589241236656, 'colsample_bytree': 0.7357027654064843, 'subsample': 0.6447240618838224, 'learning_rate': 0.0011415098748503015, 'max_depth': 3, 'min_child_weight': 84, 'eval_metric': 'mlogloss', 'num_class': 7}. Best is trial 32 with value: 0.9325657894736842.\u001b[0m\n",
      "\u001b[32m[I 2021-11-16 15:29:16,077]\u001b[0m Trial 39 finished with value: 0.9133771929824561 and parameters: {'objective': 'multi:softmax', 'tree_method': 'gpu_hist', 'lambda': 0.07333513575939887, 'alpha': 1.733299322610868, 'colsample_bytree': 0.7988667170137315, 'subsample': 0.8383329844303195, 'learning_rate': 0.0014886139921376602, 'max_depth': 20, 'min_child_weight': 22, 'eval_metric': 'mlogloss', 'num_class': 7}. Best is trial 32 with value: 0.9325657894736842.\u001b[0m\n",
      "\u001b[32m[I 2021-11-16 15:29:22,466]\u001b[0m Trial 40 finished with value: 0.9144736842105263 and parameters: {'objective': 'multi:softmax', 'tree_method': 'gpu_hist', 'lambda': 0.02638709739177002, 'alpha': 0.0649841488296498, 'colsample_bytree': 0.9264462200421646, 'subsample': 0.7216777185779369, 'learning_rate': 0.0025057842858265743, 'max_depth': 7, 'min_child_weight': 41, 'eval_metric': 'mlogloss', 'num_class': 7}. Best is trial 32 with value: 0.9325657894736842.\u001b[0m\n",
      "\u001b[32m[I 2021-11-16 15:29:41,171]\u001b[0m Trial 41 finished with value: 0.9320175438596491 and parameters: {'objective': 'multi:softmax', 'tree_method': 'gpu_hist', 'lambda': 0.05065624682065192, 'alpha': 0.5102607318336467, 'colsample_bytree': 0.7157671123787127, 'subsample': 0.8749516048698722, 'learning_rate': 0.004352448491373688, 'max_depth': 9, 'min_child_weight': 2, 'eval_metric': 'mlogloss', 'num_class': 7}. Best is trial 32 with value: 0.9325657894736842.\u001b[0m\n",
      "\u001b[32m[I 2021-11-16 15:29:47,460]\u001b[0m Trial 42 finished with value: 0.9276315789473685 and parameters: {'objective': 'multi:softmax', 'tree_method': 'gpu_hist', 'lambda': 0.04077557870686286, 'alpha': 0.6634719039240374, 'colsample_bytree': 0.7358712956596113, 'subsample': 0.879467841773853, 'learning_rate': 0.008788115497549617, 'max_depth': 9, 'min_child_weight': 21, 'eval_metric': 'mlogloss', 'num_class': 7}. Best is trial 32 with value: 0.9325657894736842.\u001b[0m\n",
      "\u001b[32m[I 2021-11-16 15:29:53,671]\u001b[0m Trial 43 finished with value: 0.9205043859649122 and parameters: {'objective': 'multi:softmax', 'tree_method': 'gpu_hist', 'lambda': 0.018948854267581857, 'alpha': 0.2381395368145884, 'colsample_bytree': 0.8163037306617551, 'subsample': 0.784749952189998, 'learning_rate': 0.004463948228017066, 'max_depth': 9, 'min_child_weight': 34, 'eval_metric': 'mlogloss', 'num_class': 7}. Best is trial 32 with value: 0.9325657894736842.\u001b[0m\n",
      "\u001b[32m[I 2021-11-16 15:30:16,346]\u001b[0m Trial 44 finished with value: 0.930921052631579 and parameters: {'objective': 'multi:softmax', 'tree_method': 'gpu_hist', 'lambda': 0.007293441479701454, 'alpha': 0.39096475332968517, 'colsample_bytree': 0.6365742264276613, 'subsample': 0.9505852279217081, 'learning_rate': 0.002235212818018439, 'max_depth': 11, 'min_child_weight': 3, 'eval_metric': 'mlogloss', 'num_class': 7}. Best is trial 32 with value: 0.9325657894736842.\u001b[0m\n",
      "\u001b[32m[I 2021-11-16 15:30:25,379]\u001b[0m Trial 45 finished with value: 0.9205043859649122 and parameters: {'objective': 'multi:softmax', 'tree_method': 'gpu_hist', 'lambda': 0.011780060708766195, 'alpha': 0.5594262288906408, 'colsample_bytree': 0.6239767864491843, 'subsample': 0.8180846508643127, 'learning_rate': 0.0022459313837177777, 'max_depth': 11, 'min_child_weight': 16, 'eval_metric': 'mlogloss', 'num_class': 7}. Best is trial 32 with value: 0.9325657894736842.\u001b[0m\n",
      "\u001b[32m[I 2021-11-16 15:30:31,191]\u001b[0m Trial 46 finished with value: 0.9078947368421053 and parameters: {'objective': 'multi:softmax', 'tree_method': 'gpu_hist', 'lambda': 0.0054644975853139766, 'alpha': 1.111704136582378, 'colsample_bytree': 0.7710690283746922, 'subsample': 0.9590473691027387, 'learning_rate': 0.001758183845989241, 'max_depth': 11, 'min_child_weight': 56, 'eval_metric': 'mlogloss', 'num_class': 7}. Best is trial 32 with value: 0.9325657894736842.\u001b[0m\n",
      "\u001b[32m[I 2021-11-16 15:30:41,552]\u001b[0m Trial 47 finished with value: 0.9259868421052632 and parameters: {'objective': 'multi:softmax', 'tree_method': 'gpu_hist', 'lambda': 0.011947588478503773, 'alpha': 0.33593322502853035, 'colsample_bytree': 0.84760598960971, 'subsample': 0.8620841364961711, 'learning_rate': 0.002991157337487008, 'max_depth': 11, 'min_child_weight': 15, 'eval_metric': 'mlogloss', 'num_class': 7}. Best is trial 32 with value: 0.9325657894736842.\u001b[0m\n",
      "\u001b[32m[I 2021-11-16 15:31:35,839]\u001b[0m Trial 48 finished with value: 0.8980263157894737 and parameters: {'objective': 'multi:softmax', 'tree_method': 'gpu_hist', 'lambda': 0.05181033049974529, 'alpha': 0.172501700510319, 'colsample_bytree': 0.6386596001514598, 'subsample': 0.5314549147817533, 'learning_rate': 0.0012272144202407477, 'max_depth': 20, 'min_child_weight': 40, 'eval_metric': 'mlogloss', 'num_class': 7}. Best is trial 32 with value: 0.9325657894736842.\u001b[0m\n",
      "\u001b[32m[I 2021-11-16 15:31:44,184]\u001b[0m Trial 49 finished with value: 0.918859649122807 and parameters: {'objective': 'multi:softmax', 'tree_method': 'gpu_hist', 'lambda': 0.0027028968845818407, 'alpha': 0.11210765300724053, 'colsample_bytree': 0.788940591476453, 'subsample': 0.7692059171658259, 'learning_rate': 0.01283289326583892, 'max_depth': 17, 'min_child_weight': 75, 'eval_metric': 'mlogloss', 'num_class': 7}. Best is trial 32 with value: 0.9325657894736842.\u001b[0m\n",
      "\u001b[32m[I 2021-11-16 15:31:47,982]\u001b[0m Trial 50 finished with value: 0.8338815789473685 and parameters: {'objective': 'multi:softmax', 'tree_method': 'gpu_hist', 'lambda': 0.007793715769067858, 'alpha': 0.0787347310042517, 'colsample_bytree': 0.9008936716857636, 'subsample': 0.8379529529008188, 'learning_rate': 0.0019420821028666715, 'max_depth': 5, 'min_child_weight': 216, 'eval_metric': 'mlogloss', 'num_class': 7}. Best is trial 32 with value: 0.9325657894736842.\u001b[0m\n",
      "\u001b[32m[I 2021-11-16 15:32:14,115]\u001b[0m Trial 51 finished with value: 0.9303728070175439 and parameters: {'objective': 'multi:softmax', 'tree_method': 'gpu_hist', 'lambda': 0.01949349721056035, 'alpha': 0.3353414747789308, 'colsample_bytree': 0.7147417287387546, 'subsample': 0.9741558031015378, 'learning_rate': 0.0031575624633694175, 'max_depth': 9, 'min_child_weight': 1, 'eval_metric': 'mlogloss', 'num_class': 7}. Best is trial 32 with value: 0.9325657894736842.\u001b[0m\n",
      "\u001b[32m[I 2021-11-16 15:32:40,332]\u001b[0m Trial 52 finished with value: 0.9314692982456141 and parameters: {'objective': 'multi:softmax', 'tree_method': 'gpu_hist', 'lambda': 0.020174324642508356, 'alpha': 0.44031265407070713, 'colsample_bytree': 0.7375959897737849, 'subsample': 0.9664435784338119, 'learning_rate': 0.002399597193061841, 'max_depth': 9, 'min_child_weight': 1, 'eval_metric': 'mlogloss', 'num_class': 7}. Best is trial 32 with value: 0.9325657894736842.\u001b[0m\n",
      "\u001b[32m[I 2021-11-16 15:32:50,067]\u001b[0m Trial 53 finished with value: 0.924890350877193 and parameters: {'objective': 'multi:softmax', 'tree_method': 'gpu_hist', 'lambda': 0.002962647545359395, 'alpha': 1.0051901135857946, 'colsample_bytree': 0.8402129086859821, 'subsample': 0.8935519162720298, 'learning_rate': 0.00225357433090908, 'max_depth': 13, 'min_child_weight': 14, 'eval_metric': 'mlogloss', 'num_class': 7}. Best is trial 32 with value: 0.9325657894736842.\u001b[0m\n",
      "\u001b[32m[I 2021-11-16 15:33:45,489]\u001b[0m Trial 54 finished with value: 0.9265350877192983 and parameters: {'objective': 'multi:softmax', 'tree_method': 'gpu_hist', 'lambda': 0.01971571741140447, 'alpha': 0.4127943249965838, 'colsample_bytree': 0.6665290405216401, 'subsample': 0.973038509517523, 'learning_rate': 0.004448449886160169, 'max_depth': 20, 'min_child_weight': 25, 'eval_metric': 'mlogloss', 'num_class': 7}. Best is trial 32 with value: 0.9325657894736842.\u001b[0m\n",
      "\u001b[32m[I 2021-11-16 15:33:55,568]\u001b[0m Trial 55 finished with value: 0.9243421052631579 and parameters: {'objective': 'multi:softmax', 'tree_method': 'gpu_hist', 'lambda': 0.09046422050606712, 'alpha': 2.311457175728412, 'colsample_bytree': 0.5860094993698703, 'subsample': 0.9973564232312556, 'learning_rate': 0.0028947659507964694, 'max_depth': 11, 'min_child_weight': 10, 'eval_metric': 'mlogloss', 'num_class': 7}. Best is trial 32 with value: 0.9325657894736842.\u001b[0m\n",
      "\u001b[32m[I 2021-11-16 15:33:59,585]\u001b[0m Trial 56 finished with value: 0.9078947368421053 and parameters: {'objective': 'multi:softmax', 'tree_method': 'gpu_hist', 'lambda': 0.03881802440666174, 'alpha': 0.33759157660216677, 'colsample_bytree': 0.7272320149981081, 'subsample': 0.9498444790933586, 'learning_rate': 0.0030473750490237093, 'max_depth': 3, 'min_child_weight': 35, 'eval_metric': 'mlogloss', 'num_class': 7}. Best is trial 32 with value: 0.9325657894736842.\u001b[0m\n",
      "\u001b[32m[I 2021-11-16 15:34:02,920]\u001b[0m Trial 57 finished with value: 0.8229166666666666 and parameters: {'objective': 'multi:softmax', 'tree_method': 'gpu_hist', 'lambda': 0.02845069325236323, 'alpha': 0.5133597407164325, 'colsample_bytree': 0.7692055754928534, 'subsample': 0.8040587615526972, 'learning_rate': 0.001651920979957842, 'max_depth': 9, 'min_child_weight': 288, 'eval_metric': 'mlogloss', 'num_class': 7}. Best is trial 32 with value: 0.9325657894736842.\u001b[0m\n",
      "\u001b[32m[I 2021-11-16 15:34:56,516]\u001b[0m Trial 58 finished with value: 0.9237938596491229 and parameters: {'objective': 'multi:softmax', 'tree_method': 'gpu_hist', 'lambda': 0.013851035524906246, 'alpha': 0.7994656179123445, 'colsample_bytree': 0.6720185479113118, 'subsample': 0.9411865935958961, 'learning_rate': 0.007073901886473773, 'max_depth': 20, 'min_child_weight': 43, 'eval_metric': 'mlogloss', 'num_class': 7}. Best is trial 32 with value: 0.9325657894736842.\u001b[0m\n",
      "\u001b[32m[I 2021-11-16 15:35:09,815]\u001b[0m Trial 59 finished with value: 0.9210526315789473 and parameters: {'objective': 'multi:softmax', 'tree_method': 'gpu_hist', 'lambda': 0.008132563088646003, 'alpha': 0.18357869717196146, 'colsample_bytree': 0.7526378144814202, 'subsample': 0.8519227990077781, 'learning_rate': 0.0013262709736816996, 'max_depth': 9, 'min_child_weight': 9, 'eval_metric': 'mlogloss', 'num_class': 7}. Best is trial 32 with value: 0.9325657894736842.\u001b[0m\n",
      "\u001b[32m[I 2021-11-16 15:35:18,505]\u001b[0m Trial 60 finished with value: 0.9194078947368421 and parameters: {'objective': 'multi:softmax', 'tree_method': 'gpu_hist', 'lambda': 0.05360882746606449, 'alpha': 0.09114992873514234, 'colsample_bytree': 0.8206739162543873, 'subsample': 0.876951073793359, 'learning_rate': 0.00251248499970821, 'max_depth': 13, 'min_child_weight': 28, 'eval_metric': 'mlogloss', 'num_class': 7}. Best is trial 32 with value: 0.9325657894736842.\u001b[0m\n",
      "\u001b[32m[I 2021-11-16 15:35:46,555]\u001b[0m Trial 61 finished with value: 0.9331140350877193 and parameters: {'objective': 'multi:softmax', 'tree_method': 'gpu_hist', 'lambda': 0.019613630447437882, 'alpha': 0.2766220032240862, 'colsample_bytree': 0.7194811956259057, 'subsample': 0.9724036039411196, 'learning_rate': 0.0019627396144725937, 'max_depth': 9, 'min_child_weight': 1, 'eval_metric': 'mlogloss', 'num_class': 7}. Best is trial 61 with value: 0.9331140350877193.\u001b[0m\n",
      "\u001b[32m[I 2021-11-16 15:35:58,626]\u001b[0m Trial 62 finished with value: 0.9237938596491229 and parameters: {'objective': 'multi:softmax', 'tree_method': 'gpu_hist', 'lambda': 0.025631552512172386, 'alpha': 0.22044149865799606, 'colsample_bytree': 0.7825488584476924, 'subsample': 0.9134965694091355, 'learning_rate': 0.001982795103974941, 'max_depth': 9, 'min_child_weight': 12, 'eval_metric': 'mlogloss', 'num_class': 7}. Best is trial 61 with value: 0.9331140350877193.\u001b[0m\n",
      "\u001b[32m[I 2021-11-16 15:36:09,422]\u001b[0m Trial 63 finished with value: 0.9183114035087719 and parameters: {'objective': 'multi:softmax', 'tree_method': 'gpu_hist', 'lambda': 0.01602372428610578, 'alpha': 0.04434557079713862, 'colsample_bytree': 0.6441573273841137, 'subsample': 0.966721250177631, 'learning_rate': 0.0014847041635226133, 'max_depth': 9, 'min_child_weight': 21, 'eval_metric': 'mlogloss', 'num_class': 7}. Best is trial 61 with value: 0.9331140350877193.\u001b[0m\n",
      "\u001b[32m[I 2021-11-16 15:36:18,597]\u001b[0m Trial 64 finished with value: 0.9226973684210527 and parameters: {'objective': 'multi:softmax', 'tree_method': 'gpu_hist', 'lambda': 0.009486375270052883, 'alpha': 0.3126965318930535, 'colsample_bytree': 0.7126042998688925, 'subsample': 0.9700316290615542, 'learning_rate': 0.002368113598905486, 'max_depth': 5, 'min_child_weight': 1, 'eval_metric': 'mlogloss', 'num_class': 7}. Best is trial 61 with value: 0.9331140350877193.\u001b[0m\n",
      "\u001b[32m[I 2021-11-16 15:36:24,311]\u001b[0m Trial 65 finished with value: 0.8974780701754386 and parameters: {'objective': 'multi:softmax', 'tree_method': 'gpu_hist', 'lambda': 0.06792447642674691, 'alpha': 0.44048159790799585, 'colsample_bytree': 0.6927833387003268, 'subsample': 0.8996614476162881, 'learning_rate': 0.0011487298341977584, 'max_depth': 9, 'min_child_weight': 57, 'eval_metric': 'mlogloss', 'num_class': 7}. Best is trial 61 with value: 0.9331140350877193.\u001b[0m\n",
      "\u001b[32m[I 2021-11-16 15:36:37,604]\u001b[0m Trial 66 finished with value: 0.9226973684210527 and parameters: {'objective': 'multi:softmax', 'tree_method': 'gpu_hist', 'lambda': 0.03311621603567593, 'alpha': 0.13694233125738048, 'colsample_bytree': 0.6033556530481761, 'subsample': 0.7568285423575968, 'learning_rate': 0.0016403736235114914, 'max_depth': 11, 'min_child_weight': 9, 'eval_metric': 'mlogloss', 'num_class': 7}. Best is trial 61 with value: 0.9331140350877193.\u001b[0m\n",
      "\u001b[32m[I 2021-11-16 15:36:43,947]\u001b[0m Trial 67 finished with value: 0.9089912280701754 and parameters: {'objective': 'multi:softmax', 'tree_method': 'gpu_hist', 'lambda': 0.0037805470444671647, 'alpha': 0.2666365309734431, 'colsample_bytree': 0.5576949864849761, 'subsample': 0.9253526329436839, 'learning_rate': 0.002031419633656111, 'max_depth': 7, 'min_child_weight': 47, 'eval_metric': 'mlogloss', 'num_class': 7}. Best is trial 61 with value: 0.9331140350877193.\u001b[0m\n",
      "\u001b[32m[I 2021-11-16 15:36:50,606]\u001b[0m Trial 68 finished with value: 0.9281798245614035 and parameters: {'objective': 'multi:softmax', 'tree_method': 'gpu_hist', 'lambda': 0.020004626919253716, 'alpha': 1.0628223773949848, 'colsample_bytree': 0.7245561729657918, 'subsample': 0.9892944654334902, 'learning_rate': 0.005063605354287289, 'max_depth': 9, 'min_child_weight': 29, 'eval_metric': 'mlogloss', 'num_class': 7}. Best is trial 61 with value: 0.9331140350877193.\u001b[0m\n",
      "\u001b[32m[I 2021-11-16 15:37:01,481]\u001b[0m Trial 69 finished with value: 0.924890350877193 and parameters: {'objective': 'multi:softmax', 'tree_method': 'gpu_hist', 'lambda': 0.005388714200922797, 'alpha': 1.6189346592101033, 'colsample_bytree': 0.6800811868054975, 'subsample': 0.9785531476024352, 'learning_rate': 0.003286272975157991, 'max_depth': 9, 'min_child_weight': 8, 'eval_metric': 'mlogloss', 'num_class': 7}. Best is trial 61 with value: 0.9331140350877193.\u001b[0m\n",
      "\u001b[32m[I 2021-11-16 15:37:10,891]\u001b[0m Trial 70 finished with value: 0.8788377192982456 and parameters: {'objective': 'multi:softmax', 'tree_method': 'gpu_hist', 'lambda': 0.1176977097188177, 'alpha': 0.12313891044058056, 'colsample_bytree': 0.7992493935690604, 'subsample': 0.839258241492776, 'learning_rate': 0.004338788938250073, 'max_depth': 17, 'min_child_weight': 108, 'eval_metric': 'mlogloss', 'num_class': 7}. Best is trial 61 with value: 0.9331140350877193.\u001b[0m\n",
      "\u001b[32m[I 2021-11-16 15:37:20,674]\u001b[0m Trial 71 finished with value: 0.9243421052631579 and parameters: {'objective': 'multi:softmax', 'tree_method': 'gpu_hist', 'lambda': 0.0496199129291208, 'alpha': 0.19833771311241044, 'colsample_bytree': 0.7549480649426679, 'subsample': 0.9475876721286073, 'learning_rate': 0.002531258953280193, 'max_depth': 9, 'min_child_weight': 19, 'eval_metric': 'mlogloss', 'num_class': 7}. Best is trial 61 with value: 0.9331140350877193.\u001b[0m\n",
      "\u001b[32m[I 2021-11-16 15:37:47,726]\u001b[0m Trial 72 finished with value: 0.9298245614035088 and parameters: {'objective': 'multi:softmax', 'tree_method': 'gpu_hist', 'lambda': 0.015825748000081047, 'alpha': 0.39906919140287483, 'colsample_bytree': 0.6511107079385825, 'subsample': 0.9324645192040902, 'learning_rate': 0.0010378183744686959, 'max_depth': 9, 'min_child_weight': 1, 'eval_metric': 'mlogloss', 'num_class': 7}. Best is trial 61 with value: 0.9331140350877193.\u001b[0m\n",
      "\u001b[32m[I 2021-11-16 15:38:00,502]\u001b[0m Trial 73 finished with value: 0.9320175438596491 and parameters: {'objective': 'multi:softmax', 'tree_method': 'gpu_hist', 'lambda': 0.02332368978881704, 'alpha': 0.7817432460970761, 'colsample_bytree': 0.7433986421512073, 'subsample': 0.8011468411177335, 'learning_rate': 0.003965487108442814, 'max_depth': 9, 'min_child_weight': 5, 'eval_metric': 'mlogloss', 'num_class': 7}. Best is trial 61 with value: 0.9331140350877193.\u001b[0m\n",
      "\u001b[32m[I 2021-11-16 15:38:08,984]\u001b[0m Trial 74 finished with value: 0.9259868421052632 and parameters: {'objective': 'multi:softmax', 'tree_method': 'gpu_hist', 'lambda': 0.022586228786318486, 'alpha': 0.8147890670846556, 'colsample_bytree': 0.7124283284506208, 'subsample': 0.9561394411645732, 'learning_rate': 0.003366681289799472, 'max_depth': 9, 'min_child_weight': 18, 'eval_metric': 'mlogloss', 'num_class': 7}. Best is trial 61 with value: 0.9331140350877193.\u001b[0m\n",
      "\u001b[32m[I 2021-11-16 15:39:03,893]\u001b[0m Trial 75 finished with value: 0.90625 and parameters: {'objective': 'multi:softmax', 'tree_method': 'gpu_hist', 'lambda': 0.03612656138445179, 'alpha': 0.5966832608642706, 'colsample_bytree': 0.742485449276487, 'subsample': 0.7211206495187805, 'learning_rate': 0.0012992030996161262, 'max_depth': 20, 'min_child_weight': 34, 'eval_metric': 'mlogloss', 'num_class': 7}. Best is trial 61 with value: 0.9331140350877193.\u001b[0m\n",
      "\u001b[32m[I 2021-11-16 15:39:11,146]\u001b[0m Trial 76 finished with value: 0.9259868421052632 and parameters: {'objective': 'multi:softmax', 'tree_method': 'gpu_hist', 'lambda': 0.16980851776322106, 'alpha': 5.042750889600856, 'colsample_bytree': 0.7825991542224383, 'subsample': 0.7959199690877616, 'learning_rate': 0.004011437429034816, 'max_depth': 9, 'min_child_weight': 12, 'eval_metric': 'mlogloss', 'num_class': 7}. Best is trial 61 with value: 0.9331140350877193.\u001b[0m\n",
      "\u001b[32m[I 2021-11-16 15:39:15,018]\u001b[0m Trial 77 finished with value: 0.9243421052631579 and parameters: {'objective': 'multi:softmax', 'tree_method': 'gpu_hist', 'lambda': 0.0878241343226393, 'alpha': 0.4960865617756063, 'colsample_bytree': 0.8318554952460788, 'subsample': 0.8262865285730304, 'learning_rate': 0.006279285843536978, 'max_depth': 3, 'min_child_weight': 26, 'eval_metric': 'mlogloss', 'num_class': 7}. Best is trial 61 with value: 0.9331140350877193.\u001b[0m\n",
      "\u001b[32m[I 2021-11-16 15:39:25,328]\u001b[0m Trial 78 finished with value: 0.9265350877192983 and parameters: {'objective': 'multi:softmax', 'tree_method': 'gpu_hist', 'lambda': 0.010428161525223786, 'alpha': 2.2006629821241934, 'colsample_bytree': 0.8647688693195257, 'subsample': 0.8591283788971917, 'learning_rate': 0.002721967394186183, 'max_depth': 9, 'min_child_weight': 7, 'eval_metric': 'mlogloss', 'num_class': 7}. Best is trial 61 with value: 0.9331140350877193.\u001b[0m\n",
      "\u001b[32m[I 2021-11-16 15:39:30,896]\u001b[0m Trial 79 finished with value: 0.9237938596491229 and parameters: {'objective': 'multi:softmax', 'tree_method': 'gpu_hist', 'lambda': 0.0064563379817132276, 'alpha': 0.8050490338990387, 'colsample_bytree': 0.6927308168306598, 'subsample': 0.8824222269268756, 'learning_rate': 0.005413984132890531, 'max_depth': 11, 'min_child_weight': 39, 'eval_metric': 'mlogloss', 'num_class': 7}. Best is trial 61 with value: 0.9331140350877193.\u001b[0m\n",
      "\u001b[32m[I 2021-11-16 15:39:34,815]\u001b[0m Trial 80 finished with value: 0.8525219298245614 and parameters: {'objective': 'multi:softmax', 'tree_method': 'gpu_hist', 'lambda': 0.014221193993284953, 'alpha': 0.28627779953640287, 'colsample_bytree': 0.6303734559163942, 'subsample': 0.9975202198656036, 'learning_rate': 0.0031325676145353087, 'max_depth': 9, 'min_child_weight': 182, 'eval_metric': 'mlogloss', 'num_class': 7}. Best is trial 61 with value: 0.9331140350877193.\u001b[0m\n",
      "\u001b[32m[I 2021-11-16 15:40:00,593]\u001b[0m Trial 81 finished with value: 0.930921052631579 and parameters: {'objective': 'multi:softmax', 'tree_method': 'gpu_hist', 'lambda': 0.02421334101450284, 'alpha': 0.18002724450284252, 'colsample_bytree': 0.7220498112027086, 'subsample': 0.7404988300447186, 'learning_rate': 0.0018079437103451018, 'max_depth': 9, 'min_child_weight': 1, 'eval_metric': 'mlogloss', 'num_class': 7}. Best is trial 61 with value: 0.9331140350877193.\u001b[0m\n",
      "\u001b[32m[I 2021-11-16 15:40:27,234]\u001b[0m Trial 82 finished with value: 0.9320175438596491 and parameters: {'objective': 'multi:softmax', 'tree_method': 'gpu_hist', 'lambda': 0.02466464404503198, 'alpha': 0.16893641977657953, 'colsample_bytree': 0.7481153393684081, 'subsample': 0.7740673546402812, 'learning_rate': 0.0017536866627752654, 'max_depth': 9, 'min_child_weight': 1, 'eval_metric': 'mlogloss', 'num_class': 7}. Best is trial 61 with value: 0.9331140350877193.\u001b[0m\n",
      "\u001b[32m[I 2021-11-16 15:40:36,057]\u001b[0m Trial 83 finished with value: 0.9194078947368421 and parameters: {'objective': 'multi:softmax', 'tree_method': 'gpu_hist', 'lambda': 0.04843726757817368, 'alpha': 0.1709643547444479, 'colsample_bytree': 0.8023734722741527, 'subsample': 0.7402502208199686, 'learning_rate': 0.0018446044105199263, 'max_depth': 9, 'min_child_weight': 19, 'eval_metric': 'mlogloss', 'num_class': 7}. Best is trial 61 with value: 0.9331140350877193.\u001b[0m\n",
      "\u001b[32m[I 2021-11-16 15:40:49,177]\u001b[0m Trial 84 finished with value: 0.9254385964912281 and parameters: {'objective': 'multi:softmax', 'tree_method': 'gpu_hist', 'lambda': 0.024122658416806483, 'alpha': 0.08152861150655252, 'colsample_bytree': 0.6621547924229753, 'subsample': 0.7723774195963565, 'learning_rate': 0.0021998985465176823, 'max_depth': 9, 'min_child_weight': 9, 'eval_metric': 'mlogloss', 'num_class': 7}. Best is trial 61 with value: 0.9331140350877193.\u001b[0m\n",
      "\u001b[32m[I 2021-11-16 15:41:46,527]\u001b[0m Trial 85 finished with value: 0.9139254385964912 and parameters: {'objective': 'multi:softmax', 'tree_method': 'gpu_hist', 'lambda': 0.06665428488361917, 'alpha': 0.05345306156491668, 'colsample_bytree': 0.7727323516525194, 'subsample': 0.7006225455738166, 'learning_rate': 0.0015436126999959666, 'max_depth': 20, 'min_child_weight': 23, 'eval_metric': 'mlogloss', 'num_class': 7}. Best is trial 61 with value: 0.9331140350877193.\u001b[0m\n",
      "\u001b[32m[I 2021-11-16 15:41:58,407]\u001b[0m Trial 86 finished with value: 0.9216008771929824 and parameters: {'objective': 'multi:softmax', 'tree_method': 'gpu_hist', 'lambda': 0.042757459877061844, 'alpha': 0.1513283459577199, 'colsample_bytree': 0.6086042851903277, 'subsample': 0.8052312880667831, 'learning_rate': 0.0018457462414572892, 'max_depth': 7, 'min_child_weight': 7, 'eval_metric': 'mlogloss', 'num_class': 7}. Best is trial 61 with value: 0.9331140350877193.\u001b[0m\n",
      "\u001b[32m[I 2021-11-16 15:42:10,749]\u001b[0m Trial 87 finished with value: 0.9232456140350878 and parameters: {'objective': 'multi:softmax', 'tree_method': 'gpu_hist', 'lambda': 0.03178485183363564, 'alpha': 0.037209945585238165, 'colsample_bytree': 0.7277161480210185, 'subsample': 0.7550130325578263, 'learning_rate': 0.002130201229175372, 'max_depth': 15, 'min_child_weight': 16, 'eval_metric': 'mlogloss', 'num_class': 7}. Best is trial 61 with value: 0.9331140350877193.\u001b[0m\n",
      "\u001b[32m[I 2021-11-16 15:42:14,886]\u001b[0m Trial 88 finished with value: 0.9216008771929824 and parameters: {'objective': 'multi:softmax', 'tree_method': 'gpu_hist', 'lambda': 0.024434634123106737, 'alpha': 1.3382113087878202, 'colsample_bytree': 0.8549669644205985, 'subsample': 0.8288808697325112, 'learning_rate': 0.030441845326293283, 'max_depth': 9, 'min_child_weight': 28, 'eval_metric': 'mlogloss', 'num_class': 7}. Best is trial 61 with value: 0.9331140350877193.\u001b[0m\n",
      "\u001b[32m[I 2021-11-16 15:42:21,138]\u001b[0m Trial 89 finished with value: 0.9226973684210527 and parameters: {'objective': 'multi:softmax', 'tree_method': 'gpu_hist', 'lambda': 0.012571626273940198, 'alpha': 0.2582198444835484, 'colsample_bytree': 0.9027539222740946, 'subsample': 0.7350616879803052, 'learning_rate': 0.07489224340547353, 'max_depth': 9, 'min_child_weight': 6, 'eval_metric': 'mlogloss', 'num_class': 7}. Best is trial 61 with value: 0.9331140350877193.\u001b[0m\n",
      "\u001b[32m[I 2021-11-16 15:42:24,105]\u001b[0m Trial 90 finished with value: 0.8547149122807017 and parameters: {'objective': 'multi:softmax', 'tree_method': 'gpu_hist', 'lambda': 0.008878280837848744, 'alpha': 0.11286741271323919, 'colsample_bytree': 0.756210273090073, 'subsample': 0.6532371953542382, 'learning_rate': 0.003988881178610553, 'max_depth': 5, 'min_child_weight': 239, 'eval_metric': 'mlogloss', 'num_class': 7}. Best is trial 61 with value: 0.9331140350877193.\u001b[0m\n",
      "\u001b[32m[I 2021-11-16 15:42:44,064]\u001b[0m Trial 91 finished with value: 0.9314692982456141 and parameters: {'objective': 'multi:softmax', 'tree_method': 'gpu_hist', 'lambda': 0.01823018851269179, 'alpha': 0.35421477197092693, 'colsample_bytree': 0.7106669247711351, 'subsample': 0.7794087500085407, 'learning_rate': 0.0027472275791619325, 'max_depth': 9, 'min_child_weight': 2, 'eval_metric': 'mlogloss', 'num_class': 7}. Best is trial 61 with value: 0.9331140350877193.\u001b[0m\n",
      "\u001b[32m[I 2021-11-16 15:43:07,573]\u001b[0m Trial 92 finished with value: 0.9320175438596491 and parameters: {'objective': 'multi:softmax', 'tree_method': 'gpu_hist', 'lambda': 0.01659799921253511, 'alpha': 0.3735108194178089, 'colsample_bytree': 0.6900323771857778, 'subsample': 0.7691075277085834, 'learning_rate': 0.002704767101806144, 'max_depth': 9, 'min_child_weight': 1, 'eval_metric': 'mlogloss', 'num_class': 7}. Best is trial 61 with value: 0.9331140350877193.\u001b[0m\n",
      "\u001b[32m[I 2021-11-16 15:43:17,448]\u001b[0m Trial 93 finished with value: 0.9254385964912281 and parameters: {'objective': 'multi:softmax', 'tree_method': 'gpu_hist', 'lambda': 0.017157482417488643, 'alpha': 0.3997560302740072, 'colsample_bytree': 0.7378938952416703, 'subsample': 0.8129285235611046, 'learning_rate': 0.0027995989608419554, 'max_depth': 13, 'min_child_weight': 15, 'eval_metric': 'mlogloss', 'num_class': 7}. Best is trial 61 with value: 0.9331140350877193.\u001b[0m\n",
      "\u001b[32m[I 2021-11-16 15:43:23,643]\u001b[0m Trial 94 finished with value: 0.9144736842105263 and parameters: {'objective': 'multi:softmax', 'tree_method': 'gpu_hist', 'lambda': 0.00999975733199419, 'alpha': 0.5900915789236908, 'colsample_bytree': 0.7029002887650165, 'subsample': 0.7751152543613489, 'learning_rate': 0.0023590644743315156, 'max_depth': 9, 'min_child_weight': 35, 'eval_metric': 'mlogloss', 'num_class': 7}. Best is trial 61 with value: 0.9331140350877193.\u001b[0m\n",
      "\u001b[32m[I 2021-11-16 15:43:46,800]\u001b[0m Trial 95 finished with value: 0.9298245614035088 and parameters: {'objective': 'multi:softmax', 'tree_method': 'gpu_hist', 'lambda': 0.03125915934055162, 'alpha': 0.20506514557223704, 'colsample_bytree': 0.6818322491426618, 'subsample': 0.7057468257119971, 'learning_rate': 0.0034802786264838343, 'max_depth': 9, 'min_child_weight': 1, 'eval_metric': 'mlogloss', 'num_class': 7}. Best is trial 61 with value: 0.9331140350877193.\u001b[0m\n",
      "\u001b[32m[I 2021-11-16 15:43:52,021]\u001b[0m Trial 96 finished with value: 0.9259868421052632 and parameters: {'objective': 'multi:softmax', 'tree_method': 'gpu_hist', 'lambda': 0.017471398715433607, 'alpha': 0.06733835252422096, 'colsample_bytree': 0.8276884866836128, 'subsample': 0.7572842844241984, 'learning_rate': 0.011812358401994426, 'max_depth': 9, 'min_child_weight': 23, 'eval_metric': 'mlogloss', 'num_class': 7}. Best is trial 61 with value: 0.9331140350877193.\u001b[0m\n",
      "\u001b[32m[I 2021-11-16 15:43:55,962]\u001b[0m Trial 97 finished with value: 0.8475877192982456 and parameters: {'objective': 'multi:softmax', 'tree_method': 'gpu_hist', 'lambda': 0.012622884902292379, 'alpha': 0.6898921292970125, 'colsample_bytree': 0.654855082875217, 'subsample': 0.8015864940313562, 'learning_rate': 0.002645192962507429, 'max_depth': 11, 'min_child_weight': 159, 'eval_metric': 'mlogloss', 'num_class': 7}. Best is trial 61 with value: 0.9331140350877193.\u001b[0m\n",
      "\u001b[32m[I 2021-11-16 15:44:54,138]\u001b[0m Trial 98 finished with value: 0.9226973684210527 and parameters: {'objective': 'multi:softmax', 'tree_method': 'gpu_hist', 'lambda': 0.004324344196701785, 'alpha': 0.3639015754638893, 'colsample_bytree': 0.8093307135651945, 'subsample': 0.7843822371739004, 'learning_rate': 0.0020067407406506818, 'max_depth': 20, 'min_child_weight': 14, 'eval_metric': 'mlogloss', 'num_class': 7}. Best is trial 61 with value: 0.9331140350877193.\u001b[0m\n",
      "\u001b[32m[I 2021-11-16 15:45:08,484]\u001b[0m Trial 99 finished with value: 0.9199561403508771 and parameters: {'objective': 'multi:softmax', 'tree_method': 'gpu_hist', 'lambda': 0.07730187028347282, 'alpha': 0.48605957542240436, 'colsample_bytree': 0.6777132347194237, 'subsample': 0.43392871718103126, 'learning_rate': 0.001623341472242793, 'max_depth': 17, 'min_child_weight': 7, 'eval_metric': 'mlogloss', 'num_class': 7}. Best is trial 61 with value: 0.9331140350877193.\u001b[0m\n",
      "\u001b[32m[I 2021-11-16 15:45:16,765]\u001b[0m Trial 100 finished with value: 0.9243421052631579 and parameters: {'objective': 'multi:softmax', 'tree_method': 'gpu_hist', 'lambda': 0.057393330793640875, 'alpha': 0.26336494779816577, 'colsample_bytree': 0.7845331362064699, 'subsample': 0.8511102960618507, 'learning_rate': 0.003748174227967862, 'max_depth': 9, 'min_child_weight': 20, 'eval_metric': 'mlogloss', 'num_class': 7}. Best is trial 61 with value: 0.9331140350877193.\u001b[0m\n",
      "\u001b[32m[I 2021-11-16 15:45:32,375]\u001b[0m Trial 101 finished with value: 0.9243421052631579 and parameters: {'objective': 'multi:softmax', 'tree_method': 'gpu_hist', 'lambda': 0.02154353944221724, 'alpha': 0.16665984147903107, 'colsample_bytree': 0.7210662419163704, 'subsample': 0.7285762185009375, 'learning_rate': 0.00137122935925782, 'max_depth': 9, 'min_child_weight': 5, 'eval_metric': 'mlogloss', 'num_class': 7}. Best is trial 61 with value: 0.9331140350877193.\u001b[0m\n"
     ]
    },
    {
     "name": "stdout",
     "output_type": "stream",
     "text": [
      "CPU times: user 27min 33s, sys: 6.01 s, total: 27min 39s\n",
      "Wall time: 27min 2s\n"
     ]
    }
   ],
   "source": [
    "%%time\n",
    "study.optimize(objective, n_trials=100)"
   ]
  },
  {
   "cell_type": "code",
   "execution_count": 20,
   "id": "989ccdb8-b509-44da-a99a-5931e0d76939",
   "metadata": {},
   "outputs": [
    {
     "data": {
      "text/plain": [
       "{'objective': 'multi:softmax',\n",
       " 'tree_method': 'gpu_hist',\n",
       " 'lambda': 0.019613630447437882,\n",
       " 'alpha': 0.2766220032240862,\n",
       " 'colsample_bytree': 0.7194811956259057,\n",
       " 'subsample': 0.9724036039411196,\n",
       " 'learning_rate': 0.0019627396144725937,\n",
       " 'max_depth': 9,\n",
       " 'min_child_weight': 1,\n",
       " 'eval_metric': 'mlogloss',\n",
       " 'num_class': 7}"
      ]
     },
     "execution_count": 20,
     "metadata": {},
     "output_type": "execute_result"
    }
   ],
   "source": [
    "study.best_trial.params"
   ]
  },
  {
   "cell_type": "code",
   "execution_count": 21,
   "id": "c3b459dd-c70b-4fa6-bf76-8addaa48dd17",
   "metadata": {},
   "outputs": [
    {
     "name": "stderr",
     "output_type": "stream",
     "text": [
      "\u001b[32m[I 2021-11-16 16:17:13,598]\u001b[0m Trial 102 finished with value: 0.930921052631579 and parameters: {'objective': 'multi:softmax', 'tree_method': 'gpu_hist', 'lambda': 0.04143089538227547, 'alpha': 0.13050157947426363, 'colsample_bytree': 0.6984381233460304, 'subsample': 0.7628713966213765, 'learning_rate': 0.0017725908739943043, 'max_depth': 9, 'min_child_weight': 2, 'eval_metric': 'mlogloss', 'num_class': 7}. Best is trial 61 with value: 0.9331140350877193.\u001b[0m\n",
      "\u001b[32m[I 2021-11-16 16:17:23,914]\u001b[0m Trial 103 finished with value: 0.9205043859649122 and parameters: {'objective': 'multi:softmax', 'tree_method': 'gpu_hist', 'lambda': 0.043293296474767574, 'alpha': 0.13380389065399795, 'colsample_bytree': 0.6953810442540308, 'subsample': 0.7620062716580102, 'learning_rate': 0.0018368078442897683, 'max_depth': 9, 'min_child_weight': 14, 'eval_metric': 'mlogloss', 'num_class': 7}. Best is trial 61 with value: 0.9331140350877193.\u001b[0m\n",
      "\u001b[32m[I 2021-11-16 16:17:30,859]\u001b[0m Trial 104 finished with value: 0.9155701754385965 and parameters: {'objective': 'multi:softmax', 'tree_method': 'gpu_hist', 'lambda': 0.027840214266089753, 'alpha': 0.2985047718314614, 'colsample_bytree': 0.7659609903453938, 'subsample': 0.7783054599280342, 'learning_rate': 0.002401649813437883, 'max_depth': 9, 'min_child_weight': 30, 'eval_metric': 'mlogloss', 'num_class': 7}. Best is trial 61 with value: 0.9331140350877193.\u001b[0m\n",
      "\u001b[32m[I 2021-11-16 16:17:46,414]\u001b[0m Trial 105 finished with value: 0.9287280701754386 and parameters: {'objective': 'multi:softmax', 'tree_method': 'gpu_hist', 'lambda': 0.03649243417543709, 'alpha': 0.09477683479754268, 'colsample_bytree': 0.7532327914071841, 'subsample': 0.6763454729791377, 'learning_rate': 0.01610635032271935, 'max_depth': 9, 'min_child_weight': 1, 'eval_metric': 'mlogloss', 'num_class': 7}. Best is trial 61 with value: 0.9331140350877193.\u001b[0m\n",
      "\u001b[32m[I 2021-11-16 16:17:56,855]\u001b[0m Trial 106 finished with value: 0.9216008771929824 and parameters: {'objective': 'multi:softmax', 'tree_method': 'gpu_hist', 'lambda': 0.022387921010564724, 'alpha': 0.22362583861950905, 'colsample_bytree': 0.7390704750739194, 'subsample': 0.7460082386079302, 'learning_rate': 0.0017665175262193409, 'max_depth': 9, 'min_child_weight': 12, 'eval_metric': 'mlogloss', 'num_class': 7}. Best is trial 61 with value: 0.9331140350877193.\u001b[0m\n",
      "\u001b[32m[I 2021-11-16 16:18:09,967]\u001b[0m Trial 107 finished with value: 0.9243421052631579 and parameters: {'objective': 'multi:softmax', 'tree_method': 'gpu_hist', 'lambda': 0.014377877478482452, 'alpha': 0.44889548057541523, 'colsample_bytree': 0.6381669869727001, 'subsample': 0.7921699191202778, 'learning_rate': 0.002278245086670467, 'max_depth': 11, 'min_child_weight': 7, 'eval_metric': 'mlogloss', 'num_class': 7}. Best is trial 61 with value: 0.9331140350877193.\u001b[0m\n",
      "\u001b[32m[I 2021-11-16 16:18:13,377]\u001b[0m Trial 108 finished with value: 0.8421052631578947 and parameters: {'objective': 'multi:softmax', 'tree_method': 'gpu_hist', 'lambda': 0.017468262268373017, 'alpha': 0.7038979320132797, 'colsample_bytree': 0.7076970427838583, 'subsample': 0.8274093497272411, 'learning_rate': 0.0029895267183223224, 'max_depth': 3, 'min_child_weight': 202, 'eval_metric': 'mlogloss', 'num_class': 7}. Best is trial 61 with value: 0.9331140350877193.\u001b[0m\n",
      "\u001b[32m[I 2021-11-16 16:18:20,614]\u001b[0m Trial 109 finished with value: 0.9205043859649122 and parameters: {'objective': 'multi:softmax', 'tree_method': 'gpu_hist', 'lambda': 0.060542083239386826, 'alpha': 0.9876889607331855, 'colsample_bytree': 0.6735743743828699, 'subsample': 0.8693337534891232, 'learning_rate': 0.0026448877532300368, 'max_depth': 9, 'min_child_weight': 23, 'eval_metric': 'mlogloss', 'num_class': 7}. Best is trial 61 with value: 0.9331140350877193.\u001b[0m\n",
      "\u001b[32m[I 2021-11-16 16:18:27,040]\u001b[0m Trial 110 finished with value: 0.9051535087719298 and parameters: {'objective': 'multi:softmax', 'tree_method': 'gpu_hist', 'lambda': 0.027813787500168205, 'alpha': 0.10275771018744193, 'colsample_bytree': 0.7233045275391766, 'subsample': 0.7643567100350491, 'learning_rate': 0.001545506673624411, 'max_depth': 9, 'min_child_weight': 45, 'eval_metric': 'mlogloss', 'num_class': 7}. Best is trial 61 with value: 0.9331140350877193.\u001b[0m\n",
      "\u001b[32m[I 2021-11-16 16:18:51,948]\u001b[0m Trial 111 finished with value: 0.9325657894736842 and parameters: {'objective': 'multi:softmax', 'tree_method': 'gpu_hist', 'lambda': 0.006496007734432403, 'alpha': 0.18770455212632445, 'colsample_bytree': 0.6895771561914243, 'subsample': 0.7142864990486355, 'learning_rate': 0.002084294868810297, 'max_depth': 9, 'min_child_weight': 1, 'eval_metric': 'mlogloss', 'num_class': 7}. Best is trial 61 with value: 0.9331140350877193.\u001b[0m\n",
      "\u001b[32m[I 2021-11-16 16:19:01,616]\u001b[0m Trial 112 finished with value: 0.9221491228070176 and parameters: {'objective': 'multi:softmax', 'tree_method': 'gpu_hist', 'lambda': 0.0022017653091689843, 'alpha': 0.33460713029384065, 'colsample_bytree': 0.6643404363738902, 'subsample': 0.7123920562891171, 'learning_rate': 0.0022172892509245774, 'max_depth': 9, 'min_child_weight': 12, 'eval_metric': 'mlogloss', 'num_class': 7}. Best is trial 61 with value: 0.9331140350877193.\u001b[0m\n",
      "\u001b[32m[I 2021-11-16 16:19:25,841]\u001b[0m Trial 113 finished with value: 0.9320175438596491 and parameters: {'objective': 'multi:softmax', 'tree_method': 'gpu_hist', 'lambda': 0.03526559234162485, 'alpha': 0.19153390422419858, 'colsample_bytree': 0.6924653196415019, 'subsample': 0.6845968435449742, 'learning_rate': 0.002057360133399909, 'max_depth': 9, 'min_child_weight': 1, 'eval_metric': 'mlogloss', 'num_class': 7}. Best is trial 61 with value: 0.9331140350877193.\u001b[0m\n",
      "\u001b[32m[I 2021-11-16 16:19:35,499]\u001b[0m Trial 114 finished with value: 0.9161184210526315 and parameters: {'objective': 'multi:softmax', 'tree_method': 'gpu_hist', 'lambda': 0.010797920619498495, 'alpha': 0.24305938501423638, 'colsample_bytree': 0.5683460575954902, 'subsample': 0.6496722939517687, 'learning_rate': 0.0020366953030591683, 'max_depth': 15, 'min_child_weight': 18, 'eval_metric': 'mlogloss', 'num_class': 7}. Best is trial 61 with value: 0.9331140350877193.\u001b[0m\n",
      "\u001b[32m[I 2021-11-16 16:20:34,053]\u001b[0m Trial 115 finished with value: 0.9276315789473685 and parameters: {'objective': 'multi:softmax', 'tree_method': 'gpu_hist', 'lambda': 0.0037392382652452127, 'alpha': 0.37520096901033345, 'colsample_bytree': 0.9834017659202916, 'subsample': 0.6669179857240243, 'learning_rate': 0.0028110739927471448, 'max_depth': 20, 'min_child_weight': 9, 'eval_metric': 'mlogloss', 'num_class': 7}. Best is trial 61 with value: 0.9331140350877193.\u001b[0m\n",
      "\u001b[32m[I 2021-11-16 16:20:40,281]\u001b[0m Trial 116 finished with value: 0.9226973684210527 and parameters: {'objective': 'multi:softmax', 'tree_method': 'gpu_hist', 'lambda': 0.0325291035735328, 'alpha': 0.1813682804005009, 'colsample_bytree': 0.6871988220495545, 'subsample': 0.6877361675998821, 'learning_rate': 0.004862576762684509, 'max_depth': 9, 'min_child_weight': 27, 'eval_metric': 'mlogloss', 'num_class': 7}. Best is trial 61 with value: 0.9331140350877193.\u001b[0m\n",
      "\u001b[32m[I 2021-11-16 16:21:04,849]\u001b[0m Trial 117 finished with value: 0.930921052631579 and parameters: {'objective': 'multi:softmax', 'tree_method': 'gpu_hist', 'lambda': 0.022543926054462787, 'alpha': 0.15257646977417502, 'colsample_bytree': 0.7343906638371104, 'subsample': 0.6920402027638134, 'learning_rate': 0.0024784159022504227, 'max_depth': 9, 'min_child_weight': 1, 'eval_metric': 'mlogloss', 'num_class': 7}. Best is trial 61 with value: 0.9331140350877193.\u001b[0m\n",
      "\u001b[32m[I 2021-11-16 16:21:13,689]\u001b[0m Trial 118 finished with value: 0.9205043859649122 and parameters: {'objective': 'multi:softmax', 'tree_method': 'gpu_hist', 'lambda': 0.006267578993470399, 'alpha': 0.15197505125258223, 'colsample_bytree': 0.7461457265330185, 'subsample': 0.6204662739373197, 'learning_rate': 0.002530758648840162, 'max_depth': 9, 'min_child_weight': 15, 'eval_metric': 'mlogloss', 'num_class': 7}. Best is trial 61 with value: 0.9331140350877193.\u001b[0m\n",
      "\u001b[32m[I 2021-11-16 16:21:23,803]\u001b[0m Trial 119 finished with value: 0.9265350877192983 and parameters: {'objective': 'multi:softmax', 'tree_method': 'gpu_hist', 'lambda': 0.00848467891865581, 'alpha': 0.5201329199980274, 'colsample_bytree': 0.6560882924964796, 'subsample': 0.8185311149023953, 'learning_rate': 0.0032506864932836557, 'max_depth': 7, 'min_child_weight': 7, 'eval_metric': 'mlogloss', 'num_class': 7}. Best is trial 61 with value: 0.9331140350877193.\u001b[0m\n",
      "\u001b[32m[I 2021-11-16 16:21:27,808]\u001b[0m Trial 120 finished with value: 0.8360745614035088 and parameters: {'objective': 'multi:softmax', 'tree_method': 'gpu_hist', 'lambda': 0.0067458739476432845, 'alpha': 0.28516079067963834, 'colsample_bytree': 0.7927956376000456, 'subsample': 0.5572920364401661, 'learning_rate': 0.0021834157366004436, 'max_depth': 13, 'min_child_weight': 141, 'eval_metric': 'mlogloss', 'num_class': 7}. Best is trial 61 with value: 0.9331140350877193.\u001b[0m\n",
      "\u001b[32m[I 2021-11-16 16:21:52,818]\u001b[0m Trial 121 finished with value: 0.930921052631579 and parameters: {'objective': 'multi:softmax', 'tree_method': 'gpu_hist', 'lambda': 0.020390143275137124, 'alpha': 0.21288131331910481, 'colsample_bytree': 0.7156562072535664, 'subsample': 0.7342029594477909, 'learning_rate': 0.0019471788586968215, 'max_depth': 9, 'min_child_weight': 1, 'eval_metric': 'mlogloss', 'num_class': 7}. Best is trial 61 with value: 0.9331140350877193.\u001b[0m\n",
      "\u001b[32m[I 2021-11-16 16:22:07,131]\u001b[0m Trial 122 finished with value: 0.9221491228070176 and parameters: {'objective': 'multi:softmax', 'tree_method': 'gpu_hist', 'lambda': 0.01366932429330125, 'alpha': 0.3173947641345626, 'colsample_bytree': 0.6214625136025229, 'subsample': 0.9379046775657698, 'learning_rate': 0.0014473414741121384, 'max_depth': 9, 'min_child_weight': 7, 'eval_metric': 'mlogloss', 'num_class': 7}. Best is trial 61 with value: 0.9331140350877193.\u001b[0m\n",
      "\u001b[32m[I 2021-11-16 16:22:13,796]\u001b[0m Trial 123 finished with value: 0.9144736842105263 and parameters: {'objective': 'multi:softmax', 'tree_method': 'gpu_hist', 'lambda': 0.0482466255821214, 'alpha': 0.439474079080833, 'colsample_bytree': 0.7717193627244672, 'subsample': 0.8041554456501384, 'learning_rate': 0.0016532575141186734, 'max_depth': 5, 'min_child_weight': 19, 'eval_metric': 'mlogloss', 'num_class': 7}. Best is trial 61 with value: 0.9331140350877193.\u001b[0m\n",
      "\u001b[32m[I 2021-11-16 16:22:26,311]\u001b[0m Trial 124 finished with value: 0.9226973684210527 and parameters: {'objective': 'multi:softmax', 'tree_method': 'gpu_hist', 'lambda': 0.016795525323857963, 'alpha': 0.19449154921981004, 'colsample_bytree': 0.6888153954201711, 'subsample': 0.9196772535640236, 'learning_rate': 0.0020331206609173025, 'max_depth': 9, 'min_child_weight': 11, 'eval_metric': 'mlogloss', 'num_class': 7}. Best is trial 61 with value: 0.9331140350877193.\u001b[0m\n",
      "\u001b[32m[I 2021-11-16 16:22:49,639]\u001b[0m Trial 125 finished with value: 0.9216008771929824 and parameters: {'objective': 'multi:softmax', 'tree_method': 'gpu_hist', 'lambda': 0.024904881471658986, 'alpha': 0.15363308192681244, 'colsample_bytree': 0.3500662795119328, 'subsample': 0.6926462480934548, 'learning_rate': 0.004252987416834773, 'max_depth': 9, 'min_child_weight': 1, 'eval_metric': 'mlogloss', 'num_class': 7}. Best is trial 61 with value: 0.9331140350877193.\u001b[0m\n",
      "\u001b[32m[I 2021-11-16 16:22:52,816]\u001b[0m Trial 126 finished with value: 0.8388157894736842 and parameters: {'objective': 'multi:softmax', 'tree_method': 'gpu_hist', 'lambda': 0.019899900297597608, 'alpha': 0.23261986946178972, 'colsample_bytree': 0.7130709196718408, 'subsample': 0.7166259915793005, 'learning_rate': 0.002957475214917052, 'max_depth': 11, 'min_child_weight': 270, 'eval_metric': 'mlogloss', 'num_class': 7}. Best is trial 61 with value: 0.9331140350877193.\u001b[0m\n",
      "\u001b[32m[I 2021-11-16 16:23:03,523]\u001b[0m Trial 127 finished with value: 0.9183114035087719 and parameters: {'objective': 'multi:softmax', 'tree_method': 'gpu_hist', 'lambda': 0.03465839369056986, 'alpha': 0.8483850449811543, 'colsample_bytree': 0.7281300663173345, 'subsample': 0.7483033103148479, 'learning_rate': 0.0035725066864985312, 'max_depth': 17, 'min_child_weight': 37, 'eval_metric': 'mlogloss', 'num_class': 7}. Best is trial 61 with value: 0.9331140350877193.\u001b[0m\n",
      "\u001b[32m[I 2021-11-16 16:23:18,848]\u001b[0m Trial 128 finished with value: 0.924890350877193 and parameters: {'objective': 'multi:softmax', 'tree_method': 'gpu_hist', 'lambda': 0.036224370443513385, 'alpha': 0.12497808037637033, 'colsample_bytree': 0.7479775236702519, 'subsample': 0.7870179303310083, 'learning_rate': 0.001759734219981776, 'max_depth': 9, 'min_child_weight': 6, 'eval_metric': 'mlogloss', 'num_class': 7}. Best is trial 61 with value: 0.9331140350877193.\u001b[0m\n",
      "\u001b[32m[I 2021-11-16 16:23:28,688]\u001b[0m Trial 129 finished with value: 0.9166666666666666 and parameters: {'objective': 'multi:softmax', 'tree_method': 'gpu_hist', 'lambda': 0.04192016222409433, 'alpha': 0.07851457153749192, 'colsample_bytree': 0.636852305676911, 'subsample': 0.9840777027446008, 'learning_rate': 0.0012638075478077285, 'max_depth': 9, 'min_child_weight': 24, 'eval_metric': 'mlogloss', 'num_class': 7}. Best is trial 61 with value: 0.9331140350877193.\u001b[0m\n",
      "\u001b[32m[I 2021-11-16 16:24:26,382]\u001b[0m Trial 130 finished with value: 0.9226973684210527 and parameters: {'objective': 'multi:softmax', 'tree_method': 'gpu_hist', 'lambda': 0.011492117780956294, 'alpha': 0.5495730850701056, 'colsample_bytree': 0.6974016715473452, 'subsample': 0.8110506928021961, 'learning_rate': 0.0021347182172212057, 'max_depth': 20, 'min_child_weight': 15, 'eval_metric': 'mlogloss', 'num_class': 7}. Best is trial 61 with value: 0.9331140350877193.\u001b[0m\n",
      "\u001b[32m[I 2021-11-16 16:24:51,794]\u001b[0m Trial 131 finished with value: 0.9314692982456141 and parameters: {'objective': 'multi:softmax', 'tree_method': 'gpu_hist', 'lambda': 0.020501595897007112, 'alpha': 0.1963257348872813, 'colsample_bytree': 0.7147450207876194, 'subsample': 0.7320344759954298, 'learning_rate': 0.0018622904671557877, 'max_depth': 9, 'min_child_weight': 1, 'eval_metric': 'mlogloss', 'num_class': 7}. Best is trial 61 with value: 0.9331140350877193.\u001b[0m\n",
      "\u001b[32m[I 2021-11-16 16:25:06,615]\u001b[0m Trial 132 finished with value: 0.924890350877193 and parameters: {'objective': 'multi:softmax', 'tree_method': 'gpu_hist', 'lambda': 0.028956427110015687, 'alpha': 0.11441810180178984, 'colsample_bytree': 0.7031627813706659, 'subsample': 0.7276301744479597, 'learning_rate': 0.0019083258889487668, 'max_depth': 9, 'min_child_weight': 6, 'eval_metric': 'mlogloss', 'num_class': 7}. Best is trial 61 with value: 0.9331140350877193.\u001b[0m\n",
      "\u001b[32m[I 2021-11-16 16:25:30,741]\u001b[0m Trial 133 finished with value: 0.9314692982456141 and parameters: {'objective': 'multi:softmax', 'tree_method': 'gpu_hist', 'lambda': 0.02548384297823089, 'alpha': 0.18128789654238667, 'colsample_bytree': 0.7266201410949518, 'subsample': 0.7036177115339189, 'learning_rate': 0.0027323087746209743, 'max_depth': 9, 'min_child_weight': 1, 'eval_metric': 'mlogloss', 'num_class': 7}. Best is trial 61 with value: 0.9331140350877193.\u001b[0m\n",
      "\u001b[32m[I 2021-11-16 16:25:41,216]\u001b[0m Trial 134 finished with value: 0.9216008771929824 and parameters: {'objective': 'multi:softmax', 'tree_method': 'gpu_hist', 'lambda': 0.043721194067518045, 'alpha': 0.08934647190345128, 'colsample_bytree': 0.6709838740811149, 'subsample': 0.6646736026934161, 'learning_rate': 0.0023873464968470815, 'max_depth': 9, 'min_child_weight': 12, 'eval_metric': 'mlogloss', 'num_class': 7}. Best is trial 61 with value: 0.9331140350877193.\u001b[0m\n",
      "\u001b[32m[I 2021-11-16 16:25:50,024]\u001b[0m Trial 135 finished with value: 0.9150219298245614 and parameters: {'objective': 'multi:softmax', 'tree_method': 'gpu_hist', 'lambda': 0.05498048987109238, 'alpha': 0.13110125261218486, 'colsample_bytree': 0.7015569798581163, 'subsample': 0.7693683157379377, 'learning_rate': 0.0016134081760202197, 'max_depth': 9, 'min_child_weight': 21, 'eval_metric': 'mlogloss', 'num_class': 7}. Best is trial 61 with value: 0.9331140350877193.\u001b[0m\n",
      "\u001b[32m[I 2021-11-16 16:26:14,084]\u001b[0m Trial 136 finished with value: 0.930921052631579 and parameters: {'objective': 'multi:softmax', 'tree_method': 'gpu_hist', 'lambda': 0.019036990245846843, 'alpha': 0.19997310404028157, 'colsample_bytree': 0.7128977212753982, 'subsample': 0.7096213054461713, 'learning_rate': 0.002742723749969249, 'max_depth': 9, 'min_child_weight': 1, 'eval_metric': 'mlogloss', 'num_class': 7}. Best is trial 61 with value: 0.9331140350877193.\u001b[0m\n",
      "\u001b[32m[I 2021-11-16 16:26:24,326]\u001b[0m Trial 137 finished with value: 0.9265350877192983 and parameters: {'objective': 'multi:softmax', 'tree_method': 'gpu_hist', 'lambda': 0.014741664857601559, 'alpha': 0.3859264439731323, 'colsample_bytree': 0.7586872215152212, 'subsample': 0.7802096336542744, 'learning_rate': 0.003029858334902583, 'max_depth': 9, 'min_child_weight': 11, 'eval_metric': 'mlogloss', 'num_class': 7}. Best is trial 61 with value: 0.9331140350877193.\u001b[0m\n",
      "\u001b[32m[I 2021-11-16 16:26:28,412]\u001b[0m Trial 138 finished with value: 0.9078947368421053 and parameters: {'objective': 'multi:softmax', 'tree_method': 'gpu_hist', 'lambda': 0.027821219347952227, 'alpha': 0.26588251237607013, 'colsample_bytree': 0.6807196403735195, 'subsample': 0.9636474962957562, 'learning_rate': 0.002501337372373076, 'max_depth': 3, 'min_child_weight': 19, 'eval_metric': 'mlogloss', 'num_class': 7}. Best is trial 61 with value: 0.9331140350877193.\u001b[0m\n",
      "\u001b[32m[I 2021-11-16 16:26:35,016]\u001b[0m Trial 139 finished with value: 0.9194078947368421 and parameters: {'objective': 'multi:softmax', 'tree_method': 'gpu_hist', 'lambda': 0.023880775176420413, 'alpha': 0.15905830194877235, 'colsample_bytree': 0.7367543640429453, 'subsample': 0.7005857960917523, 'learning_rate': 0.0033377318174369576, 'max_depth': 9, 'min_child_weight': 31, 'eval_metric': 'mlogloss', 'num_class': 7}. Best is trial 61 with value: 0.9331140350877193.\u001b[0m\n",
      "\u001b[32m[I 2021-11-16 16:26:46,066]\u001b[0m Trial 140 finished with value: 0.9216008771929824 and parameters: {'objective': 'multi:softmax', 'tree_method': 'gpu_hist', 'lambda': 0.016818930916491195, 'alpha': 0.3096180498360389, 'colsample_bytree': 0.77329083361226, 'subsample': 0.6287986204231042, 'learning_rate': 0.0014211692724678407, 'max_depth': 9, 'min_child_weight': 8, 'eval_metric': 'mlogloss', 'num_class': 7}. Best is trial 61 with value: 0.9331140350877193.\u001b[0m\n",
      "\u001b[32m[I 2021-11-16 16:27:08,236]\u001b[0m Trial 141 finished with value: 0.9314692982456141 and parameters: {'objective': 'multi:softmax', 'tree_method': 'gpu_hist', 'lambda': 0.03176426487697405, 'alpha': 0.6326146849606394, 'colsample_bytree': 0.6488688519115395, 'subsample': 0.7365653191484347, 'learning_rate': 0.0022014555597712196, 'max_depth': 9, 'min_child_weight': 1, 'eval_metric': 'mlogloss', 'num_class': 7}. Best is trial 61 with value: 0.9331140350877193.\u001b[0m\n",
      "\u001b[32m[I 2021-11-16 16:27:17,005]\u001b[0m Trial 142 finished with value: 0.9216008771929824 and parameters: {'objective': 'multi:softmax', 'tree_method': 'gpu_hist', 'lambda': 0.032193345831045814, 'alpha': 0.6588994551431485, 'colsample_bytree': 0.6575970158233327, 'subsample': 0.7490902778904497, 'learning_rate': 0.0023214428945670202, 'max_depth': 9, 'min_child_weight': 14, 'eval_metric': 'mlogloss', 'num_class': 7}. Best is trial 61 with value: 0.9331140350877193.\u001b[0m\n",
      "\u001b[32m[I 2021-11-16 16:27:31,335]\u001b[0m Trial 143 finished with value: 0.9265350877192983 and parameters: {'objective': 'multi:softmax', 'tree_method': 'gpu_hist', 'lambda': 0.04342773168747398, 'alpha': 0.24556972630837212, 'colsample_bytree': 0.6924709216251373, 'subsample': 0.7957432895952913, 'learning_rate': 0.0017267444376990674, 'max_depth': 9, 'min_child_weight': 6, 'eval_metric': 'mlogloss', 'num_class': 7}. Best is trial 61 with value: 0.9331140350877193.\u001b[0m\n",
      "\u001b[32m[I 2021-11-16 16:27:56,711]\u001b[0m Trial 144 finished with value: 0.9314692982456141 and parameters: {'objective': 'multi:softmax', 'tree_method': 'gpu_hist', 'lambda': 0.02128920945632053, 'alpha': 0.20368973987414862, 'colsample_bytree': 0.7180711704132333, 'subsample': 0.7282768807471341, 'learning_rate': 0.001995673061247895, 'max_depth': 9, 'min_child_weight': 1, 'eval_metric': 'mlogloss', 'num_class': 7}. Best is trial 61 with value: 0.9331140350877193.\u001b[0m\n",
      "\u001b[32m[I 2021-11-16 16:28:05,424]\u001b[0m Trial 145 finished with value: 0.9210526315789473 and parameters: {'objective': 'multi:softmax', 'tree_method': 'gpu_hist', 'lambda': 0.020116085655790025, 'alpha': 1.2423574000810094, 'colsample_bytree': 0.7330571872464504, 'subsample': 0.7186689633970346, 'learning_rate': 0.00199298138270311, 'max_depth': 9, 'min_child_weight': 11, 'eval_metric': 'mlogloss', 'num_class': 7}. Best is trial 61 with value: 0.9331140350877193.\u001b[0m\n",
      "\u001b[32m[I 2021-11-16 16:28:23,957]\u001b[0m Trial 146 finished with value: 0.9314692982456141 and parameters: {'objective': 'multi:softmax', 'tree_method': 'gpu_hist', 'lambda': 0.02788773105691111, 'alpha': 0.9056953800267895, 'colsample_bytree': 0.7194668267846495, 'subsample': 0.7296273420211942, 'learning_rate': 0.007117703203564704, 'max_depth': 9, 'min_child_weight': 1, 'eval_metric': 'mlogloss', 'num_class': 7}. Best is trial 61 with value: 0.9331140350877193.\u001b[0m\n",
      "\u001b[32m[I 2021-11-16 16:28:32,237]\u001b[0m Trial 147 finished with value: 0.9226973684210527 and parameters: {'objective': 'multi:softmax', 'tree_method': 'gpu_hist', 'lambda': 0.07549030391470685, 'alpha': 0.1838421742964775, 'colsample_bytree': 0.7480074205253524, 'subsample': 0.6797704706416884, 'learning_rate': 0.0026790606726575855, 'max_depth': 9, 'min_child_weight': 18, 'eval_metric': 'mlogloss', 'num_class': 7}. Best is trial 61 with value: 0.9331140350877193.\u001b[0m\n",
      "\u001b[32m[I 2021-11-16 16:28:42,883]\u001b[0m Trial 148 finished with value: 0.9320175438596491 and parameters: {'objective': 'multi:softmax', 'tree_method': 'gpu_hist', 'lambda': 0.02774601327949525, 'alpha': 0.914508744694722, 'colsample_bytree': 0.7181268093538642, 'subsample': 0.7239297776172671, 'learning_rate': 0.005792834152804498, 'max_depth': 9, 'min_child_weight': 6, 'eval_metric': 'mlogloss', 'num_class': 7}. Best is trial 61 with value: 0.9331140350877193.\u001b[0m\n",
      "\u001b[32m[I 2021-11-16 16:28:52,112]\u001b[0m Trial 149 finished with value: 0.9292763157894737 and parameters: {'objective': 'multi:softmax', 'tree_method': 'gpu_hist', 'lambda': 0.027586107781629603, 'alpha': 0.8893667785755668, 'colsample_bytree': 0.6806884969888515, 'subsample': 0.7526389129085086, 'learning_rate': 0.008885357133409317, 'max_depth': 9, 'min_child_weight': 8, 'eval_metric': 'mlogloss', 'num_class': 7}. Best is trial 61 with value: 0.9331140350877193.\u001b[0m\n",
      "\u001b[32m[I 2021-11-16 16:28:57,845]\u001b[0m Trial 150 finished with value: 0.9254385964912281 and parameters: {'objective': 'multi:softmax', 'tree_method': 'gpu_hist', 'lambda': 0.09950972912478764, 'alpha': 1.1844102986863, 'colsample_bytree': 0.8816497667871406, 'subsample': 0.7060163917699159, 'learning_rate': 0.006964353782010566, 'max_depth': 9, 'min_child_weight': 25, 'eval_metric': 'mlogloss', 'num_class': 7}. Best is trial 61 with value: 0.9331140350877193.\u001b[0m\n",
      "\u001b[32m[I 2021-11-16 16:29:14,322]\u001b[0m Trial 151 finished with value: 0.9298245614035088 and parameters: {'objective': 'multi:softmax', 'tree_method': 'gpu_hist', 'lambda': 0.03328330879140019, 'alpha': 1.9738555901546493, 'colsample_bytree': 0.720281748139246, 'subsample': 0.7327547445501653, 'learning_rate': 0.005683169836137917, 'max_depth': 9, 'min_child_weight': 1, 'eval_metric': 'mlogloss', 'num_class': 7}. Best is trial 61 with value: 0.9331140350877193.\u001b[0m\n",
      "\u001b[32m[I 2021-11-16 16:29:21,512]\u001b[0m Trial 152 finished with value: 0.9281798245614035 and parameters: {'objective': 'multi:softmax', 'tree_method': 'gpu_hist', 'lambda': 0.030338762266798814, 'alpha': 1.4391221911234318, 'colsample_bytree': 0.7623483949558554, 'subsample': 0.7141503237695096, 'learning_rate': 0.0073814597451262644, 'max_depth': 9, 'min_child_weight': 14, 'eval_metric': 'mlogloss', 'num_class': 7}. Best is trial 61 with value: 0.9331140350877193.\u001b[0m\n",
      "\u001b[32m[I 2021-11-16 16:29:25,059]\u001b[0m Trial 153 finished with value: 0.8771929824561403 and parameters: {'objective': 'multi:softmax', 'tree_method': 'gpu_hist', 'lambda': 0.023478897269063458, 'alpha': 0.6288964649424932, 'colsample_bytree': 0.7253746046344772, 'subsample': 0.7292405455425358, 'learning_rate': 0.005994817372883451, 'max_depth': 9, 'min_child_weight': 119, 'eval_metric': 'mlogloss', 'num_class': 7}. Best is trial 61 with value: 0.9331140350877193.\u001b[0m\n",
      "\u001b[32m[I 2021-11-16 16:30:17,494]\u001b[0m Trial 154 finished with value: 0.8799342105263158 and parameters: {'objective': 'multi:softmax', 'tree_method': 'gpu_hist', 'lambda': 0.015376381974083211, 'alpha': 0.45854722319683666, 'colsample_bytree': 0.7043983724522082, 'subsample': 0.7417330960706813, 'learning_rate': 0.0038558481617818334, 'max_depth': 20, 'min_child_weight': 87, 'eval_metric': 'mlogloss', 'num_class': 7}. Best is trial 61 with value: 0.9331140350877193.\u001b[0m\n",
      "\u001b[32m[I 2021-11-16 16:30:29,666]\u001b[0m Trial 155 finished with value: 0.930921052631579 and parameters: {'objective': 'multi:softmax', 'tree_method': 'gpu_hist', 'lambda': 0.0382549951777725, 'alpha': 0.7540341164403382, 'colsample_bytree': 0.6491524898001523, 'subsample': 0.7718784529448782, 'learning_rate': 0.010872992270326336, 'max_depth': 15, 'min_child_weight': 7, 'eval_metric': 'mlogloss', 'num_class': 7}. Best is trial 61 with value: 0.9331140350877193.\u001b[0m\n",
      "\u001b[32m[I 2021-11-16 16:30:39,405]\u001b[0m Trial 156 finished with value: 0.9292763157894737 and parameters: {'objective': 'multi:softmax', 'tree_method': 'gpu_hist', 'lambda': 0.01985652514074167, 'alpha': 0.3480797371151701, 'colsample_bytree': 0.7454904995277719, 'subsample': 0.6863849313479267, 'learning_rate': 0.004706888146941839, 'max_depth': 7, 'min_child_weight': 6, 'eval_metric': 'mlogloss', 'num_class': 7}. Best is trial 61 with value: 0.9331140350877193.\u001b[0m\n",
      "\u001b[32m[I 2021-11-16 16:30:46,899]\u001b[0m Trial 157 finished with value: 0.9287280701754386 and parameters: {'objective': 'multi:softmax', 'tree_method': 'gpu_hist', 'lambda': 0.051764925691437244, 'alpha': 1.0442860798371971, 'colsample_bytree': 0.7805808515638764, 'subsample': 0.7596154390481207, 'learning_rate': 0.006315246713344025, 'max_depth': 9, 'min_child_weight': 15, 'eval_metric': 'mlogloss', 'num_class': 7}. Best is trial 61 with value: 0.9331140350877193.\u001b[0m\n",
      "\u001b[32m[I 2021-11-16 16:31:16,966]\u001b[0m Trial 158 finished with value: 0.9298245614035088 and parameters: {'objective': 'multi:softmax', 'tree_method': 'gpu_hist', 'lambda': 0.001524213150607442, 'alpha': 0.5932033504825606, 'colsample_bytree': 0.6675117019547033, 'subsample': 0.8363555182794508, 'learning_rate': 0.004955718800215999, 'max_depth': 13, 'min_child_weight': 1, 'eval_metric': 'mlogloss', 'num_class': 7}. Best is trial 61 with value: 0.9331140350877193.\u001b[0m\n",
      "\u001b[32m[I 2021-11-16 16:31:27,127]\u001b[0m Trial 159 finished with value: 0.9270833333333334 and parameters: {'objective': 'multi:softmax', 'tree_method': 'gpu_hist', 'lambda': 0.01297201413280616, 'alpha': 0.2259862080074268, 'colsample_bytree': 0.8107949820970605, 'subsample': 0.6981483910987945, 'learning_rate': 0.0031615851716269715, 'max_depth': 9, 'min_child_weight': 11, 'eval_metric': 'mlogloss', 'num_class': 7}. Best is trial 61 with value: 0.9331140350877193.\u001b[0m\n",
      "\u001b[32m[I 2021-11-16 16:31:34,131]\u001b[0m Trial 160 finished with value: 0.9166666666666666 and parameters: {'objective': 'multi:softmax', 'tree_method': 'gpu_hist', 'lambda': 0.016415448597711303, 'alpha': 0.10638992642115411, 'colsample_bytree': 0.7376418681039629, 'subsample': 0.7946114792104615, 'learning_rate': 0.0021308212954808457, 'max_depth': 5, 'min_child_weight': 20, 'eval_metric': 'mlogloss', 'num_class': 7}. Best is trial 61 with value: 0.9331140350877193.\u001b[0m\n",
      "\u001b[32m[I 2021-11-16 16:31:53,094]\u001b[0m Trial 161 finished with value: 0.930921052631579 and parameters: {'objective': 'multi:softmax', 'tree_method': 'gpu_hist', 'lambda': 0.025403900404661582, 'alpha': 0.9043635135923168, 'colsample_bytree': 0.7145680344109182, 'subsample': 0.7191380379487137, 'learning_rate': 0.005379863577553329, 'max_depth': 9, 'min_child_weight': 1, 'eval_metric': 'mlogloss', 'num_class': 7}. Best is trial 61 with value: 0.9331140350877193.\u001b[0m\n",
      "\u001b[32m[I 2021-11-16 16:32:05,709]\u001b[0m Trial 162 finished with value: 0.9243421052631579 and parameters: {'objective': 'multi:softmax', 'tree_method': 'gpu_hist', 'lambda': 0.021938161122204963, 'alpha': 0.5044921722957609, 'colsample_bytree': 0.6891099978529284, 'subsample': 0.7425339067519698, 'learning_rate': 0.0018930483652029536, 'max_depth': 9, 'min_child_weight': 6, 'eval_metric': 'mlogloss', 'num_class': 7}. Best is trial 61 with value: 0.9331140350877193.\u001b[0m\n",
      "\u001b[32m[I 2021-11-16 16:32:18,915]\u001b[0m Trial 163 finished with value: 0.9276315789473685 and parameters: {'objective': 'multi:softmax', 'tree_method': 'gpu_hist', 'lambda': 0.034873936694653086, 'alpha': 0.3093888583877404, 'colsample_bytree': 0.7082176259658389, 'subsample': 0.7267824778568874, 'learning_rate': 0.002337247320813832, 'max_depth': 9, 'min_child_weight': 6, 'eval_metric': 'mlogloss', 'num_class': 7}. Best is trial 61 with value: 0.9331140350877193.\u001b[0m\n",
      "\u001b[32m[I 2021-11-16 16:32:42,065]\u001b[0m Trial 164 finished with value: 0.930921052631579 and parameters: {'objective': 'multi:softmax', 'tree_method': 'gpu_hist', 'lambda': 0.02744208733556957, 'alpha': 0.1895398770619888, 'colsample_bytree': 0.7255303974952487, 'subsample': 0.7817999805850604, 'learning_rate': 0.004298444566324217, 'max_depth': 9, 'min_child_weight': 1, 'eval_metric': 'mlogloss', 'num_class': 7}. Best is trial 61 with value: 0.9331140350877193.\u001b[0m\n",
      "\u001b[32m[I 2021-11-16 16:32:49,872]\u001b[0m Trial 165 finished with value: 0.9265350877192983 and parameters: {'objective': 'multi:softmax', 'tree_method': 'gpu_hist', 'lambda': 0.02008799494644118, 'alpha': 0.4058738715649309, 'colsample_bytree': 0.8373194610765942, 'subsample': 0.7592767713653961, 'learning_rate': 0.008260184377997632, 'max_depth': 9, 'min_child_weight': 13, 'eval_metric': 'mlogloss', 'num_class': 7}. Best is trial 61 with value: 0.9331140350877193.\u001b[0m\n",
      "\u001b[32m[I 2021-11-16 16:33:00,639]\u001b[0m Trial 166 finished with value: 0.9265350877192983 and parameters: {'objective': 'multi:softmax', 'tree_method': 'gpu_hist', 'lambda': 0.025510396384417173, 'alpha': 0.2849930912927059, 'colsample_bytree': 0.7627167772198421, 'subsample': 0.735495830363445, 'learning_rate': 0.0027658841404044404, 'max_depth': 9, 'min_child_weight': 10, 'eval_metric': 'mlogloss', 'num_class': 7}. Best is trial 61 with value: 0.9331140350877193.\u001b[0m\n",
      "\u001b[32m[I 2021-11-16 16:33:07,077]\u001b[0m Trial 167 finished with value: 0.9161184210526315 and parameters: {'objective': 'multi:softmax', 'tree_method': 'gpu_hist', 'lambda': 0.0368539619235493, 'alpha': 3.012914374104579, 'colsample_bytree': 0.6893306783076268, 'subsample': 0.6645555886700933, 'learning_rate': 0.002045514975773909, 'max_depth': 9, 'min_child_weight': 17, 'eval_metric': 'mlogloss', 'num_class': 7}. Best is trial 61 with value: 0.9331140350877193.\u001b[0m\n",
      "\u001b[32m[I 2021-11-16 16:33:40,312]\u001b[0m Trial 168 finished with value: 0.9298245614035088 and parameters: {'objective': 'multi:softmax', 'tree_method': 'gpu_hist', 'lambda': 0.017524600546215945, 'alpha': 0.7087833754431002, 'colsample_bytree': 0.6729138404830616, 'subsample': 0.7087983667382679, 'learning_rate': 0.0015374750355857864, 'max_depth': 17, 'min_child_weight': 1, 'eval_metric': 'mlogloss', 'num_class': 7}. Best is trial 61 with value: 0.9331140350877193.\u001b[0m\n",
      "\u001b[32m[I 2021-11-16 16:33:48,751]\u001b[0m Trial 169 finished with value: 0.9172149122807017 and parameters: {'objective': 'multi:softmax', 'tree_method': 'gpu_hist', 'lambda': 0.01089921483180196, 'alpha': 0.145070160017257, 'colsample_bytree': 0.7143280798750012, 'subsample': 0.8142190571318296, 'learning_rate': 0.002216823859571676, 'max_depth': 9, 'min_child_weight': 24, 'eval_metric': 'mlogloss', 'num_class': 7}. Best is trial 61 with value: 0.9331140350877193.\u001b[0m\n",
      "\u001b[32m[I 2021-11-16 16:34:01,748]\u001b[0m Trial 170 finished with value: 0.9254385964912281 and parameters: {'objective': 'multi:softmax', 'tree_method': 'gpu_hist', 'lambda': 0.029999385196266964, 'alpha': 0.2626211019644383, 'colsample_bytree': 0.7453660283556349, 'subsample': 0.7755579495556655, 'learning_rate': 0.0025269160195555912, 'max_depth': 9, 'min_child_weight': 7, 'eval_metric': 'mlogloss', 'num_class': 7}. Best is trial 61 with value: 0.9331140350877193.\u001b[0m\n",
      "\u001b[32m[I 2021-11-16 16:34:28,563]\u001b[0m Trial 171 finished with value: 0.9320175438596491 and parameters: {'objective': 'multi:softmax', 'tree_method': 'gpu_hist', 'lambda': 0.06129180236747197, 'alpha': 0.11697721673002322, 'colsample_bytree': 0.699339732328031, 'subsample': 0.7529126133297583, 'learning_rate': 0.0017250921337935681, 'max_depth': 9, 'min_child_weight': 1, 'eval_metric': 'mlogloss', 'num_class': 7}. Best is trial 61 with value: 0.9331140350877193.\u001b[0m\n",
      "\u001b[32m[I 2021-11-16 16:34:54,431]\u001b[0m Trial 172 finished with value: 0.930921052631579 and parameters: {'objective': 'multi:softmax', 'tree_method': 'gpu_hist', 'lambda': 0.05970252206325019, 'alpha': 0.16803703174612156, 'colsample_bytree': 0.7313947005250169, 'subsample': 0.7396093053090371, 'learning_rate': 0.001908117391072777, 'max_depth': 9, 'min_child_weight': 1, 'eval_metric': 'mlogloss', 'num_class': 7}. Best is trial 61 with value: 0.9331140350877193.\u001b[0m\n",
      "\u001b[32m[I 2021-11-16 16:35:05,712]\u001b[0m Trial 173 finished with value: 0.9221491228070176 and parameters: {'objective': 'multi:softmax', 'tree_method': 'gpu_hist', 'lambda': 0.04838127395927444, 'alpha': 0.2135081472070239, 'colsample_bytree': 0.7004109342693273, 'subsample': 0.758446406902895, 'learning_rate': 0.0016502864953366258, 'max_depth': 9, 'min_child_weight': 11, 'eval_metric': 'mlogloss', 'num_class': 7}. Best is trial 61 with value: 0.9331140350877193.\u001b[0m\n",
      "\u001b[32m[I 2021-11-16 16:35:20,460]\u001b[0m Trial 174 finished with value: 0.9221491228070176 and parameters: {'objective': 'multi:softmax', 'tree_method': 'gpu_hist', 'lambda': 0.06366665732322849, 'alpha': 0.11530310028239117, 'colsample_bytree': 0.7058128552099643, 'subsample': 0.7241850068516197, 'learning_rate': 0.0017272887137354807, 'max_depth': 9, 'min_child_weight': 6, 'eval_metric': 'mlogloss', 'num_class': 7}. Best is trial 61 with value: 0.9331140350877193.\u001b[0m\n",
      "\u001b[32m[I 2021-11-16 16:35:28,876]\u001b[0m Trial 175 finished with value: 0.9221491228070176 and parameters: {'objective': 'multi:softmax', 'tree_method': 'gpu_hist', 'lambda': 0.0377830333536404, 'alpha': 0.5438628634825585, 'colsample_bytree': 0.7233985732656055, 'subsample': 0.7502204801620458, 'learning_rate': 0.0020906844045396316, 'max_depth': 9, 'min_child_weight': 16, 'eval_metric': 'mlogloss', 'num_class': 7}. Best is trial 61 with value: 0.9331140350877193.\u001b[0m\n",
      "\u001b[32m[I 2021-11-16 16:36:29,114]\u001b[0m Trial 176 finished with value: 0.9254385964912281 and parameters: {'objective': 'multi:softmax', 'tree_method': 'gpu_hist', 'lambda': 0.02269922826421126, 'alpha': 0.09311309122900828, 'colsample_bytree': 0.6778851469610508, 'subsample': 0.6961230440304247, 'learning_rate': 0.003584329583778005, 'max_depth': 20, 'min_child_weight': 10, 'eval_metric': 'mlogloss', 'num_class': 7}. Best is trial 61 with value: 0.9331140350877193.\u001b[0m\n",
      "\u001b[32m[I 2021-11-16 16:36:55,383]\u001b[0m Trial 177 finished with value: 0.9303728070175439 and parameters: {'objective': 'multi:softmax', 'tree_method': 'gpu_hist', 'lambda': 0.014500835573719026, 'alpha': 0.13640385399263688, 'colsample_bytree': 0.6910340047151088, 'subsample': 0.7682197592247842, 'learning_rate': 0.0023911685792607383, 'max_depth': 9, 'min_child_weight': 1, 'eval_metric': 'mlogloss', 'num_class': 7}. Best is trial 61 with value: 0.9331140350877193.\u001b[0m\n",
      "\u001b[32m[I 2021-11-16 16:37:07,852]\u001b[0m Trial 178 finished with value: 0.9265350877192983 and parameters: {'objective': 'multi:softmax', 'tree_method': 'gpu_hist', 'lambda': 0.028236378375966143, 'alpha': 0.3685443692615177, 'colsample_bytree': 0.7555772049338371, 'subsample': 0.7883064607494759, 'learning_rate': 0.00290297833281211, 'max_depth': 9, 'min_child_weight': 7, 'eval_metric': 'mlogloss', 'num_class': 7}. Best is trial 61 with value: 0.9331140350877193.\u001b[0m\n",
      "\u001b[32m[I 2021-11-16 16:37:17,903]\u001b[0m Trial 179 finished with value: 0.9205043859649122 and parameters: {'objective': 'multi:softmax', 'tree_method': 'gpu_hist', 'lambda': 0.08095981163513141, 'alpha': 0.17713836202928654, 'colsample_bytree': 0.7375434240425619, 'subsample': 0.8261211915619193, 'learning_rate': 0.0015226371181909493, 'max_depth': 9, 'min_child_weight': 16, 'eval_metric': 'mlogloss', 'num_class': 7}. Best is trial 61 with value: 0.9331140350877193.\u001b[0m\n",
      "\u001b[32m[I 2021-11-16 16:37:34,393]\u001b[0m Trial 180 finished with value: 0.9265350877192983 and parameters: {'objective': 'multi:softmax', 'tree_method': 'gpu_hist', 'lambda': 0.04606569924805231, 'alpha': 0.06106590875635063, 'colsample_bytree': 0.7959726603804574, 'subsample': 0.8026326509401952, 'learning_rate': 0.0018345275529442883, 'max_depth': 9, 'min_child_weight': 6, 'eval_metric': 'mlogloss', 'num_class': 7}. Best is trial 61 with value: 0.9331140350877193.\u001b[0m\n",
      "\u001b[32m[I 2021-11-16 16:37:59,823]\u001b[0m Trial 181 finished with value: 0.9331140350877193 and parameters: {'objective': 'multi:softmax', 'tree_method': 'gpu_hist', 'lambda': 0.057300771282952835, 'alpha': 0.1660497714619471, 'colsample_bytree': 0.7245447106436651, 'subsample': 0.7360146096869183, 'learning_rate': 0.0020928961318676916, 'max_depth': 9, 'min_child_weight': 1, 'eval_metric': 'mlogloss', 'num_class': 7}. Best is trial 61 with value: 0.9331140350877193.\u001b[0m\n",
      "\u001b[32m[I 2021-11-16 16:38:24,261]\u001b[0m Trial 182 finished with value: 0.9320175438596491 and parameters: {'objective': 'multi:softmax', 'tree_method': 'gpu_hist', 'lambda': 0.06434484565081558, 'alpha': 0.21979552825105642, 'colsample_bytree': 0.7153692846686859, 'subsample': 0.7181124784371289, 'learning_rate': 0.0021622571518472226, 'max_depth': 9, 'min_child_weight': 1, 'eval_metric': 'mlogloss', 'num_class': 7}. Best is trial 61 with value: 0.9331140350877193.\u001b[0m\n",
      "\u001b[32m[I 2021-11-16 16:38:34,956]\u001b[0m Trial 183 finished with value: 0.9226973684210527 and parameters: {'objective': 'multi:softmax', 'tree_method': 'gpu_hist', 'lambda': 0.07232247104070083, 'alpha': 0.2173079888241403, 'colsample_bytree': 0.7249070852903395, 'subsample': 0.7189375210004267, 'learning_rate': 0.0021475554965607307, 'max_depth': 9, 'min_child_weight': 11, 'eval_metric': 'mlogloss', 'num_class': 7}. Best is trial 61 with value: 0.9331140350877193.\u001b[0m\n",
      "\u001b[32m[I 2021-11-16 16:38:39,095]\u001b[0m Trial 184 finished with value: 0.9084429824561403 and parameters: {'objective': 'multi:softmax', 'tree_method': 'gpu_hist', 'lambda': 0.053573529781502836, 'alpha': 0.14634069633561672, 'colsample_bytree': 0.7060001793911597, 'subsample': 0.7438825551106586, 'learning_rate': 0.0019866212759980777, 'max_depth': 3, 'min_child_weight': 6, 'eval_metric': 'mlogloss', 'num_class': 7}. Best is trial 61 with value: 0.9331140350877193.\u001b[0m\n",
      "\u001b[32m[I 2021-11-16 16:38:49,013]\u001b[0m Trial 185 finished with value: 0.9216008771929824 and parameters: {'objective': 'multi:softmax', 'tree_method': 'gpu_hist', 'lambda': 0.13760640837205457, 'alpha': 0.18069394085895776, 'colsample_bytree': 0.7182643894615757, 'subsample': 0.7075131757320487, 'learning_rate': 0.0017633484918980747, 'max_depth': 9, 'min_child_weight': 13, 'eval_metric': 'mlogloss', 'num_class': 7}. Best is trial 61 with value: 0.9331140350877193.\u001b[0m\n",
      "\u001b[32m[I 2021-11-16 16:39:14,464]\u001b[0m Trial 186 finished with value: 0.9292763157894737 and parameters: {'objective': 'multi:softmax', 'tree_method': 'gpu_hist', 'lambda': 0.1054249883518776, 'alpha': 0.12160921409693015, 'colsample_bytree': 0.6934941285652894, 'subsample': 0.67925444672275, 'learning_rate': 0.0013695482860900726, 'max_depth': 9, 'min_child_weight': 1, 'eval_metric': 'mlogloss', 'num_class': 7}. Best is trial 61 with value: 0.9331140350877193.\u001b[0m\n",
      "\u001b[32m[I 2021-11-16 16:39:22,657]\u001b[0m Trial 187 finished with value: 0.918859649122807 and parameters: {'objective': 'multi:softmax', 'tree_method': 'gpu_hist', 'lambda': 0.06812499564881033, 'alpha': 0.2103803276837046, 'colsample_bytree': 0.664082828894038, 'subsample': 0.7245035282464248, 'learning_rate': 0.0025851036560384437, 'max_depth': 9, 'min_child_weight': 20, 'eval_metric': 'mlogloss', 'num_class': 7}. Best is trial 61 with value: 0.9331140350877193.\u001b[0m\n",
      "\u001b[32m[I 2021-11-16 16:39:36,207]\u001b[0m Trial 188 finished with value: 0.9287280701754386 and parameters: {'objective': 'multi:softmax', 'tree_method': 'gpu_hist', 'lambda': 0.042950775201345485, 'alpha': 0.25024634001115786, 'colsample_bytree': 0.857003668947143, 'subsample': 0.7339451468262881, 'learning_rate': 0.0022599629241628174, 'max_depth': 9, 'min_child_weight': 6, 'eval_metric': 'mlogloss', 'num_class': 7}. Best is trial 61 with value: 0.9331140350877193.\u001b[0m\n",
      "\u001b[32m[I 2021-11-16 16:39:45,232]\u001b[0m Trial 189 finished with value: 0.9221491228070176 and parameters: {'objective': 'multi:softmax', 'tree_method': 'gpu_hist', 'lambda': 0.03468731742150109, 'alpha': 0.7798757954323354, 'colsample_bytree': 0.7413129388862431, 'subsample': 0.7526615706205683, 'learning_rate': 0.002499188851127941, 'max_depth': 9, 'min_child_weight': 12, 'eval_metric': 'mlogloss', 'num_class': 7}. Best is trial 61 with value: 0.9331140350877193.\u001b[0m\n",
      "\u001b[32m[I 2021-11-16 16:39:55,274]\u001b[0m Trial 190 finished with value: 0.9303728070175439 and parameters: {'objective': 'multi:softmax', 'tree_method': 'gpu_hist', 'lambda': 0.08663785998545279, 'alpha': 0.44002020938678593, 'colsample_bytree': 0.7064272462081905, 'subsample': 0.7689861193796321, 'learning_rate': 0.0067713697201022575, 'max_depth': 9, 'min_child_weight': 8, 'eval_metric': 'mlogloss', 'num_class': 7}. Best is trial 61 with value: 0.9331140350877193.\u001b[0m\n",
      "\u001b[32m[I 2021-11-16 16:40:20,551]\u001b[0m Trial 191 finished with value: 0.930921052631579 and parameters: {'objective': 'multi:softmax', 'tree_method': 'gpu_hist', 'lambda': 0.018777664956593797, 'alpha': 0.1590628568419195, 'colsample_bytree': 0.7309804848043125, 'subsample': 0.6950454106971412, 'learning_rate': 0.0018881650976045503, 'max_depth': 9, 'min_child_weight': 1, 'eval_metric': 'mlogloss', 'num_class': 7}. Best is trial 61 with value: 0.9331140350877193.\u001b[0m\n",
      "\u001b[32m[I 2021-11-16 16:40:34,877]\u001b[0m Trial 192 finished with value: 0.9281798245614035 and parameters: {'objective': 'multi:softmax', 'tree_method': 'gpu_hist', 'lambda': 0.023075192772653626, 'alpha': 0.2632127816803991, 'colsample_bytree': 0.6822582939336472, 'subsample': 0.7094572198506764, 'learning_rate': 0.0021125307315562327, 'max_depth': 9, 'min_child_weight': 5, 'eval_metric': 'mlogloss', 'num_class': 7}. Best is trial 61 with value: 0.9331140350877193.\u001b[0m\n",
      "\u001b[32m[I 2021-11-16 16:40:41,860]\u001b[0m Trial 193 finished with value: 0.9276315789473685 and parameters: {'objective': 'multi:softmax', 'tree_method': 'gpu_hist', 'lambda': 0.030278748196064312, 'alpha': 0.32475857464970237, 'colsample_bytree': 0.71395997338291, 'subsample': 0.7338555415358423, 'learning_rate': 0.007691679569958145, 'max_depth': 9, 'min_child_weight': 16, 'eval_metric': 'mlogloss', 'num_class': 7}. Best is trial 61 with value: 0.9331140350877193.\u001b[0m\n",
      "\u001b[32m[I 2021-11-16 16:40:58,648]\u001b[0m Trial 194 finished with value: 0.9243421052631579 and parameters: {'objective': 'multi:softmax', 'tree_method': 'gpu_hist', 'lambda': 0.058983145576518556, 'alpha': 0.1938159018159648, 'colsample_bytree': 0.7537800012845522, 'subsample': 0.7181892421372427, 'learning_rate': 0.0016511954762504885, 'max_depth': 15, 'min_child_weight': 6, 'eval_metric': 'mlogloss', 'num_class': 7}. Best is trial 61 with value: 0.9331140350877193.\u001b[0m\n",
      "\u001b[32m[I 2021-11-16 16:41:14,412]\u001b[0m Trial 195 finished with value: 0.9281798245614035 and parameters: {'objective': 'multi:softmax', 'tree_method': 'gpu_hist', 'lambda': 0.03924151195464988, 'alpha': 1.0346357277033753, 'colsample_bytree': 0.6996175379729529, 'subsample': 0.9044967604130998, 'learning_rate': 0.0022719562817228598, 'max_depth': 7, 'min_child_weight': 1, 'eval_metric': 'mlogloss', 'num_class': 7}. Best is trial 61 with value: 0.9331140350877193.\u001b[0m\n",
      "\u001b[32m[I 2021-11-16 16:42:15,326]\u001b[0m Trial 196 finished with value: 0.9243421052631579 and parameters: {'objective': 'multi:softmax', 'tree_method': 'gpu_hist', 'lambda': 0.023277940453485666, 'alpha': 0.10481757992998104, 'colsample_bytree': 0.7186552786016774, 'subsample': 0.7497523823970276, 'learning_rate': 0.002711546817980445, 'max_depth': 20, 'min_child_weight': 11, 'eval_metric': 'mlogloss', 'num_class': 7}. Best is trial 61 with value: 0.9331140350877193.\u001b[0m\n",
      "\u001b[32m[I 2021-11-16 16:42:42,294]\u001b[0m Trial 197 finished with value: 0.9314692982456141 and parameters: {'objective': 'multi:softmax', 'tree_method': 'gpu_hist', 'lambda': 0.018750648032417723, 'alpha': 0.13552709104780228, 'colsample_bytree': 0.7334579544605564, 'subsample': 0.778042241965169, 'learning_rate': 0.001956755622120815, 'max_depth': 9, 'min_child_weight': 1, 'eval_metric': 'mlogloss', 'num_class': 7}. Best is trial 61 with value: 0.9331140350877193.\u001b[0m\n",
      "\u001b[32m[I 2021-11-16 16:42:51,749]\u001b[0m Trial 198 finished with value: 0.9166666666666666 and parameters: {'objective': 'multi:softmax', 'tree_method': 'gpu_hist', 'lambda': 0.017726995734065776, 'alpha': 0.12648213226173163, 'colsample_bytree': 0.7349519622784245, 'subsample': 0.7886544647488352, 'learning_rate': 0.00191822753069261, 'max_depth': 13, 'min_child_weight': 21, 'eval_metric': 'mlogloss', 'num_class': 7}. Best is trial 61 with value: 0.9331140350877193.\u001b[0m\n",
      "\u001b[32m[I 2021-11-16 16:43:20,345]\u001b[0m Trial 199 finished with value: 0.9331140350877193 and parameters: {'objective': 'multi:softmax', 'tree_method': 'gpu_hist', 'lambda': 0.03158225495462037, 'alpha': 0.1535646697236528, 'colsample_bytree': 0.8201858517137955, 'subsample': 0.8911321307617448, 'learning_rate': 0.001745125024338594, 'max_depth': 9, 'min_child_weight': 1, 'eval_metric': 'mlogloss', 'num_class': 7}. Best is trial 61 with value: 0.9331140350877193.\u001b[0m\n",
      "\u001b[32m[I 2021-11-16 16:43:28,296]\u001b[0m Trial 200 finished with value: 0.9183114035087719 and parameters: {'objective': 'multi:softmax', 'tree_method': 'gpu_hist', 'lambda': 0.04957234674164763, 'alpha': 0.1538027327674409, 'colsample_bytree': 0.8226992953961317, 'subsample': 0.8640444238606594, 'learning_rate': 0.0016314507004031905, 'max_depth': 5, 'min_child_weight': 11, 'eval_metric': 'mlogloss', 'num_class': 7}. Best is trial 61 with value: 0.9331140350877193.\u001b[0m\n",
      "\u001b[32m[I 2021-11-16 16:43:56,917]\u001b[0m Trial 201 finished with value: 0.9325657894736842 and parameters: {'objective': 'multi:softmax', 'tree_method': 'gpu_hist', 'lambda': 0.03251772132574002, 'alpha': 0.1417897241542815, 'colsample_bytree': 0.8308793510065701, 'subsample': 0.8860209370435681, 'learning_rate': 0.0018161064026862492, 'max_depth': 9, 'min_child_weight': 1, 'eval_metric': 'mlogloss', 'num_class': 7}. Best is trial 61 with value: 0.9331140350877193.\u001b[0m\n"
     ]
    },
    {
     "name": "stdout",
     "output_type": "stream",
     "text": [
      "CPU times: user 27min 45s, sys: 5.81 s, total: 27min 51s\n",
      "Wall time: 27min 5s\n"
     ]
    }
   ],
   "source": [
    "%%time\n",
    "study.optimize(objective, n_trials=100)"
   ]
  },
  {
   "cell_type": "code",
   "execution_count": null,
   "id": "9b346319-8265-4c6d-ae55-77b5bb97f71c",
   "metadata": {},
   "outputs": [],
   "source": []
  }
 ],
 "metadata": {
  "kernelspec": {
   "display_name": "Python 3 (ipykernel)",
   "language": "python",
   "name": "python3"
  },
  "language_info": {
   "codemirror_mode": {
    "name": "ipython",
    "version": 3
   },
   "file_extension": ".py",
   "mimetype": "text/x-python",
   "name": "python",
   "nbconvert_exporter": "python",
   "pygments_lexer": "ipython3",
   "version": "3.8.10"
  }
 },
 "nbformat": 4,
 "nbformat_minor": 5
}
